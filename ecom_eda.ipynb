{
 "cells": [
  {
   "cell_type": "markdown",
   "metadata": {},
   "source": [
    "## Context of Data"
   ]
  },
  {
   "cell_type": "markdown",
   "metadata": {},
   "source": [
    "Company-wide Employees E-Commerce purchase data\n",
    "\n",
    "Customers - Most purchased ones are belongs to Dietitian, Lawyers professionals\n",
    "\n",
    "Transactions purchase range on average of $50\n",
    "\n",
    "Transaction purchase period all through 24hours"
   ]
  },
  {
   "cell_type": "markdown",
   "metadata": {},
   "source": [
    "Results obtained from Exploratory Data Analysis (EDA)"
   ]
  },
  {
   "cell_type": "markdown",
   "metadata": {},
   "source": [
    "<font color=blue>\n",
    "\n",
    "1. The customer with the highest number of purchase comes from the Dietitian Professionals\n",
    "\n",
    "2. 'Brown Ltd' company's employees have purchased most values as $796.38\n",
    "\n",
    "3. The TOP 5 companies employees placed the highest number of purchases as below:\n",
    "\n",
    "        Brown Ltd\n",
    "        Williams LLC\n",
    "        Smith LLC\n",
    "        Smith PLC\n",
    "        Johnson Ltd\n",
    "\n",
    "4. The TOP purchased customer brownsarah@gmail.com with the value as $198.83\n",
    "\n",
    "5. The Top 5 customer's purchases are\n",
    "        brownsarah@gmail.com    ==> $198.83\n",
    "        wjohnson@yahoo.com      ==> $175.61\n",
    "        cgray@gmail.com         ==> $154.41\n",
    "        lawrenceemily@yahoo.com ==> $154.31\n",
    "        wilsonjohn@yahoo.com    ==> $153.36\n",
    "\n",
    "6. The highest number of purchase are done in the evening(PM)\n",
    "\n",
    "7. The highest number of purchase are done by [ru] language customers\n",
    "\n",
    "8. Majority of the customers(around 79.2%) customers are using Mozilla for browsing and to purchase items\n",
    "</font>"
   ]
  },
  {
   "cell_type": "code",
   "execution_count": 1,
   "metadata": {},
   "outputs": [],
   "source": [
    "import numpy as np\n",
    "import random\n",
    "import re\n",
    "import pandas as pd\n",
    "import matplotlib.pyplot as plt\n",
    "import seaborn as sns\n"
   ]
  },
  {
   "cell_type": "code",
   "execution_count": 2,
   "metadata": {},
   "outputs": [
    {
     "name": "stdout",
     "output_type": "stream",
     "text": [
      "<class 'pandas.core.frame.DataFrame'>\n",
      "RangeIndex: 10000 entries, 0 to 9999\n",
      "Data columns (total 14 columns):\n",
      " #   Column            Non-Null Count  Dtype  \n",
      "---  ------            --------------  -----  \n",
      " 0   Address           10000 non-null  object \n",
      " 1   Lot               10000 non-null  object \n",
      " 2   AM or PM          10000 non-null  object \n",
      " 3   Browser Info      10000 non-null  object \n",
      " 4   Company           10000 non-null  object \n",
      " 5   Credit Card       10000 non-null  int64  \n",
      " 6   CC Exp Date       10000 non-null  object \n",
      " 7   CC Security Code  10000 non-null  int64  \n",
      " 8   CC Provider       10000 non-null  object \n",
      " 9   Email             10000 non-null  object \n",
      " 10  Job               10000 non-null  object \n",
      " 11  IP Address        10000 non-null  object \n",
      " 12  Language          10000 non-null  object \n",
      " 13  Purchase Price    10000 non-null  float64\n",
      "dtypes: float64(1), int64(2), object(11)\n",
      "memory usage: 1.1+ MB\n"
     ]
    }
   ],
   "source": [
    "ecom = pd.read_csv('Ecommerce_Purchases.csv')\n",
    "ecom.info()"
   ]
  },
  {
   "cell_type": "code",
   "execution_count": 3,
   "metadata": {},
   "outputs": [
    {
     "data": {
      "text/plain": [
       "(10000, 14)"
      ]
     },
     "execution_count": 3,
     "metadata": {},
     "output_type": "execute_result"
    }
   ],
   "source": [
    "ecom.shape"
   ]
  },
  {
   "cell_type": "code",
   "execution_count": 4,
   "metadata": {},
   "outputs": [
    {
     "data": {
      "text/html": [
       "<div>\n",
       "<style scoped>\n",
       "    .dataframe tbody tr th:only-of-type {\n",
       "        vertical-align: middle;\n",
       "    }\n",
       "\n",
       "    .dataframe tbody tr th {\n",
       "        vertical-align: top;\n",
       "    }\n",
       "\n",
       "    .dataframe thead th {\n",
       "        text-align: right;\n",
       "    }\n",
       "</style>\n",
       "<table border=\"1\" class=\"dataframe\">\n",
       "  <thead>\n",
       "    <tr style=\"text-align: right;\">\n",
       "      <th></th>\n",
       "      <th>Credit Card</th>\n",
       "      <th>CC Security Code</th>\n",
       "      <th>Purchase Price</th>\n",
       "    </tr>\n",
       "  </thead>\n",
       "  <tbody>\n",
       "    <tr>\n",
       "      <th>count</th>\n",
       "      <td>1.000000e+04</td>\n",
       "      <td>10000.000000</td>\n",
       "      <td>10000.000000</td>\n",
       "    </tr>\n",
       "    <tr>\n",
       "      <th>mean</th>\n",
       "      <td>2.341374e+15</td>\n",
       "      <td>907.217800</td>\n",
       "      <td>50.347302</td>\n",
       "    </tr>\n",
       "    <tr>\n",
       "      <th>std</th>\n",
       "      <td>2.256103e+15</td>\n",
       "      <td>1589.693035</td>\n",
       "      <td>29.015836</td>\n",
       "    </tr>\n",
       "    <tr>\n",
       "      <th>min</th>\n",
       "      <td>6.040186e+10</td>\n",
       "      <td>0.000000</td>\n",
       "      <td>0.000000</td>\n",
       "    </tr>\n",
       "    <tr>\n",
       "      <th>25%</th>\n",
       "      <td>3.056322e+13</td>\n",
       "      <td>280.000000</td>\n",
       "      <td>25.150000</td>\n",
       "    </tr>\n",
       "    <tr>\n",
       "      <th>50%</th>\n",
       "      <td>8.699942e+14</td>\n",
       "      <td>548.000000</td>\n",
       "      <td>50.505000</td>\n",
       "    </tr>\n",
       "    <tr>\n",
       "      <th>75%</th>\n",
       "      <td>4.492298e+15</td>\n",
       "      <td>816.000000</td>\n",
       "      <td>75.770000</td>\n",
       "    </tr>\n",
       "    <tr>\n",
       "      <th>max</th>\n",
       "      <td>6.012000e+15</td>\n",
       "      <td>9993.000000</td>\n",
       "      <td>99.990000</td>\n",
       "    </tr>\n",
       "  </tbody>\n",
       "</table>\n",
       "</div>"
      ],
      "text/plain": [
       "        Credit Card  CC Security Code  Purchase Price\n",
       "count  1.000000e+04      10000.000000    10000.000000\n",
       "mean   2.341374e+15        907.217800       50.347302\n",
       "std    2.256103e+15       1589.693035       29.015836\n",
       "min    6.040186e+10          0.000000        0.000000\n",
       "25%    3.056322e+13        280.000000       25.150000\n",
       "50%    8.699942e+14        548.000000       50.505000\n",
       "75%    4.492298e+15        816.000000       75.770000\n",
       "max    6.012000e+15       9993.000000       99.990000"
      ]
     },
     "execution_count": 4,
     "metadata": {},
     "output_type": "execute_result"
    }
   ],
   "source": [
    "ecom.describe()"
   ]
  },
  {
   "cell_type": "code",
   "execution_count": 5,
   "metadata": {},
   "outputs": [
    {
     "data": {
      "text/plain": [
       "Address             10000\n",
       "Lot                  9822\n",
       "AM or PM                2\n",
       "Browser Info         8287\n",
       "Company              8653\n",
       "Credit Card         10000\n",
       "CC Exp Date           121\n",
       "CC Security Code     1758\n",
       "CC Provider            10\n",
       "Email                9954\n",
       "Job                   623\n",
       "IP Address          10000\n",
       "Language                9\n",
       "Purchase Price       6349\n",
       "dtype: int64"
      ]
     },
     "execution_count": 5,
     "metadata": {},
     "output_type": "execute_result"
    }
   ],
   "source": [
    "ecom.nunique()"
   ]
  },
  {
   "cell_type": "code",
   "execution_count": 6,
   "metadata": {},
   "outputs": [
    {
     "data": {
      "text/plain": [
       "count    10000.000000\n",
       "mean        50.347302\n",
       "std         29.015836\n",
       "min          0.000000\n",
       "25%         25.150000\n",
       "50%         50.505000\n",
       "75%         75.770000\n",
       "max         99.990000\n",
       "Name: Purchase Price, dtype: float64"
      ]
     },
     "execution_count": 6,
     "metadata": {},
     "output_type": "execute_result"
    }
   ],
   "source": [
    "ecom['Purchase Price'].describe()"
   ]
  },
  {
   "cell_type": "code",
   "execution_count": 7,
   "metadata": {},
   "outputs": [
    {
     "data": {
      "text/plain": [
       "Address             1098\n",
       "Lot                 1098\n",
       "AM or PM            1098\n",
       "Browser Info        1098\n",
       "Company             1098\n",
       "Credit Card         1098\n",
       "CC Exp Date         1098\n",
       "CC Security Code    1098\n",
       "CC Provider         1098\n",
       "Email               1098\n",
       "Job                 1098\n",
       "IP Address          1098\n",
       "Language            1098\n",
       "Purchase Price      1098\n",
       "dtype: int64"
      ]
     },
     "execution_count": 7,
     "metadata": {},
     "output_type": "execute_result"
    }
   ],
   "source": [
    "# People who have English 'en' as their Language of choice on the website\n",
    "\n",
    "ecom[ecom['Language']=='en'].count()"
   ]
  },
  {
   "cell_type": "code",
   "execution_count": 8,
   "metadata": {},
   "outputs": [
    {
     "data": {
      "text/plain": [
       "PM    5068\n",
       "AM    4932\n",
       "Name: AM or PM, dtype: int64"
      ]
     },
     "execution_count": 8,
     "metadata": {},
     "output_type": "execute_result"
    }
   ],
   "source": [
    "#count number of transacations in AM and PM\n",
    "ecom['AM or PM'].value_counts()"
   ]
  },
  {
   "cell_type": "code",
   "execution_count": 9,
   "metadata": {},
   "outputs": [
    {
     "data": {
      "text/plain": [
       "Interior and spatial designer        31\n",
       "Lawyer                               30\n",
       "Social researcher                    28\n",
       "Research officer, political party    27\n",
       "Purchasing manager                   27\n",
       "Name: Job, dtype: int64"
      ]
     },
     "execution_count": 9,
     "metadata": {},
     "output_type": "execute_result"
    }
   ],
   "source": [
    "#top five jobs\n",
    "ecom['Job'].value_counts().head(5)"
   ]
  },
  {
   "cell_type": "code",
   "execution_count": 10,
   "metadata": {},
   "outputs": [
    {
     "data": {
      "text/plain": [
       "hotmail.com     1638\n",
       "yahoo.com       1616\n",
       "gmail.com       1605\n",
       "smith.com         42\n",
       "williams.com      37\n",
       "Name: Email, dtype: int64"
      ]
     },
     "execution_count": 10,
     "metadata": {},
     "output_type": "execute_result"
    }
   ],
   "source": [
    "#top five email providers\n",
    "ecom['Email'].apply(lambda x: x.split('@')[1]).value_counts().head(5)"
   ]
  },
  {
   "cell_type": "code",
   "execution_count": 11,
   "metadata": {},
   "outputs": [],
   "source": [
    "\n",
    "selected_columns = ecom[['AM or PM', 'Company', 'Credit Card',\n",
    "       'CC Exp Date', 'CC Security Code', 'CC Provider', 'Email', 'Job',\n",
    "       'IP Address', 'Language', 'Purchase Price']]\n",
    "\n",
    "cleaned_ecom = selected_columns.copy()"
   ]
  },
  {
   "cell_type": "code",
   "execution_count": 12,
   "metadata": {},
   "outputs": [],
   "source": [
    "#clean up address\n",
    "address = ecom['Address'].str.extract(r\",*\\W*([A-Z]{2}\\W+[0-9\\-]*)$\", expand = False)\n",
    "address = address.str.split(pat=r\"\\W|\\-\", expand = True)"
   ]
  },
  {
   "cell_type": "code",
   "execution_count": 13,
   "metadata": {},
   "outputs": [],
   "source": [
    "#clean browser\n",
    "browser = ecom['Browser Info'].str.split(pat=r\" |\\(|\\)\", expand = True)\n",
    "browser_and_ver = browser[0].str.split(pat=r\"/\", expand = True)"
   ]
  },
  {
   "cell_type": "code",
   "execution_count": 14,
   "metadata": {},
   "outputs": [
    {
     "data": {
      "text/plain": [
       "AM or PM                2\n",
       "Company              8653\n",
       "Credit Card         10000\n",
       "CC Exp Date           121\n",
       "CC Security Code     1758\n",
       "CC Provider             8\n",
       "Email                9954\n",
       "Job                   623\n",
       "IP Address          10000\n",
       "Language                9\n",
       "Purchase Price       6349\n",
       "Browser                 2\n",
       "Browser Version       181\n",
       "CC Exp Year            11\n",
       "CC Exp Month           12\n",
       "State                  62\n",
       "ZIP Code             9543\n",
       "dtype: int64"
      ]
     },
     "execution_count": 14,
     "metadata": {},
     "output_type": "execute_result"
    }
   ],
   "source": [
    "cleaned_ecom['Browser'] = browser_and_ver[0]\n",
    "cleaned_ecom['Browser Version'] = browser_and_ver[1]\n",
    "cleaned_ecom['CC Exp Year'] = ecom['CC Exp Date'].str.split(pat=r\"/\", expand = True)[1].astype(int)\n",
    "cleaned_ecom['CC Exp Month'] = ecom['CC Exp Date'].str.split(pat=r\"/\", expand = True)[0].astype(int)\n",
    "cleaned_ecom['State'] =   address[0]\n",
    "cleaned_ecom['ZIP Code'] =   address[1]\n",
    "cleaned_ecom['ZIP Code'] = cleaned_ecom['ZIP Code'].astype(int)\n",
    "cleaned_ecom['CC Provider'] = cleaned_ecom['CC Provider'].str.split(pat = '\\d', expand = True)[0]\n",
    "cleaned_ecom.nunique() #There are 10000 different credit cards registered and 10000 different IP addresses\n",
    "#but interestingly not 10000 different email addresses. Hence email address is not used to maintain user account "
   ]
  },
  {
   "cell_type": "code",
   "execution_count": 15,
   "metadata": {},
   "outputs": [
    {
     "data": {
      "text/html": [
       "<div>\n",
       "<style scoped>\n",
       "    .dataframe tbody tr th:only-of-type {\n",
       "        vertical-align: middle;\n",
       "    }\n",
       "\n",
       "    .dataframe tbody tr th {\n",
       "        vertical-align: top;\n",
       "    }\n",
       "\n",
       "    .dataframe thead th {\n",
       "        text-align: right;\n",
       "    }\n",
       "</style>\n",
       "<table border=\"1\" class=\"dataframe\">\n",
       "  <thead>\n",
       "    <tr style=\"text-align: right;\">\n",
       "      <th></th>\n",
       "      <th>AM or PM</th>\n",
       "      <th>Company</th>\n",
       "      <th>Credit Card</th>\n",
       "      <th>CC Exp Date</th>\n",
       "      <th>CC Security Code</th>\n",
       "      <th>CC Provider</th>\n",
       "      <th>Email</th>\n",
       "      <th>Job</th>\n",
       "      <th>IP Address</th>\n",
       "      <th>Language</th>\n",
       "      <th>Purchase Price</th>\n",
       "      <th>Browser</th>\n",
       "      <th>Browser Version</th>\n",
       "      <th>CC Exp Year</th>\n",
       "      <th>CC Exp Month</th>\n",
       "      <th>State</th>\n",
       "      <th>ZIP Code</th>\n",
       "    </tr>\n",
       "  </thead>\n",
       "  <tbody>\n",
       "    <tr>\n",
       "      <th>0</th>\n",
       "      <td>PM</td>\n",
       "      <td>Martinez-Herman</td>\n",
       "      <td>6011929061123406</td>\n",
       "      <td>02/20</td>\n",
       "      <td>900</td>\n",
       "      <td>JCB</td>\n",
       "      <td>pdunlap@yahoo.com</td>\n",
       "      <td>Scientist, product/process development</td>\n",
       "      <td>149.146.147.205</td>\n",
       "      <td>el</td>\n",
       "      <td>98.14</td>\n",
       "      <td>Opera</td>\n",
       "      <td>9.56.</td>\n",
       "      <td>20</td>\n",
       "      <td>2</td>\n",
       "      <td>NE</td>\n",
       "      <td>77130</td>\n",
       "    </tr>\n",
       "    <tr>\n",
       "      <th>1</th>\n",
       "      <td>PM</td>\n",
       "      <td>Fletcher, Richards and Whitaker</td>\n",
       "      <td>3337758169645356</td>\n",
       "      <td>11/18</td>\n",
       "      <td>561</td>\n",
       "      <td>Mastercard</td>\n",
       "      <td>anthony41@reed.com</td>\n",
       "      <td>Drilling engineer</td>\n",
       "      <td>15.160.41.51</td>\n",
       "      <td>fr</td>\n",
       "      <td>70.73</td>\n",
       "      <td>Opera</td>\n",
       "      <td>8.93.</td>\n",
       "      <td>18</td>\n",
       "      <td>11</td>\n",
       "      <td>TN</td>\n",
       "      <td>84355</td>\n",
       "    </tr>\n",
       "    <tr>\n",
       "      <th>2</th>\n",
       "      <td>PM</td>\n",
       "      <td>Simpson, Williams and Pham</td>\n",
       "      <td>675957666125</td>\n",
       "      <td>08/19</td>\n",
       "      <td>699</td>\n",
       "      <td>JCB</td>\n",
       "      <td>amymiller@morales-harrison.com</td>\n",
       "      <td>Customer service manager</td>\n",
       "      <td>132.207.160.22</td>\n",
       "      <td>de</td>\n",
       "      <td>0.95</td>\n",
       "      <td>Mozilla</td>\n",
       "      <td>5.0</td>\n",
       "      <td>19</td>\n",
       "      <td>8</td>\n",
       "      <td>AP</td>\n",
       "      <td>27450</td>\n",
       "    </tr>\n",
       "    <tr>\n",
       "      <th>3</th>\n",
       "      <td>PM</td>\n",
       "      <td>Williams, Marshall and Buchanan</td>\n",
       "      <td>6011578504430710</td>\n",
       "      <td>02/24</td>\n",
       "      <td>384</td>\n",
       "      <td>Discover</td>\n",
       "      <td>brent16@olson-robinson.info</td>\n",
       "      <td>Drilling engineer</td>\n",
       "      <td>30.250.74.19</td>\n",
       "      <td>es</td>\n",
       "      <td>78.04</td>\n",
       "      <td>Mozilla</td>\n",
       "      <td>5.0</td>\n",
       "      <td>24</td>\n",
       "      <td>2</td>\n",
       "      <td>WA</td>\n",
       "      <td>45798</td>\n",
       "    </tr>\n",
       "    <tr>\n",
       "      <th>4</th>\n",
       "      <td>AM</td>\n",
       "      <td>Brown, Watson and Andrews</td>\n",
       "      <td>6011456623207998</td>\n",
       "      <td>10/25</td>\n",
       "      <td>678</td>\n",
       "      <td>Diners Club / Carte Blanche</td>\n",
       "      <td>christopherwright@gmail.com</td>\n",
       "      <td>Fine artist</td>\n",
       "      <td>24.140.33.94</td>\n",
       "      <td>es</td>\n",
       "      <td>77.82</td>\n",
       "      <td>Opera</td>\n",
       "      <td>9.58.</td>\n",
       "      <td>25</td>\n",
       "      <td>10</td>\n",
       "      <td>TX</td>\n",
       "      <td>57826</td>\n",
       "    </tr>\n",
       "    <tr>\n",
       "      <th>...</th>\n",
       "      <td>...</td>\n",
       "      <td>...</td>\n",
       "      <td>...</td>\n",
       "      <td>...</td>\n",
       "      <td>...</td>\n",
       "      <td>...</td>\n",
       "      <td>...</td>\n",
       "      <td>...</td>\n",
       "      <td>...</td>\n",
       "      <td>...</td>\n",
       "      <td>...</td>\n",
       "      <td>...</td>\n",
       "      <td>...</td>\n",
       "      <td>...</td>\n",
       "      <td>...</td>\n",
       "      <td>...</td>\n",
       "      <td>...</td>\n",
       "    </tr>\n",
       "    <tr>\n",
       "      <th>9995</th>\n",
       "      <td>PM</td>\n",
       "      <td>Randall-Sloan</td>\n",
       "      <td>342945015358701</td>\n",
       "      <td>03/22</td>\n",
       "      <td>838</td>\n",
       "      <td>JCB</td>\n",
       "      <td>iscott@wade-garner.com</td>\n",
       "      <td>Printmaker</td>\n",
       "      <td>29.73.197.114</td>\n",
       "      <td>it</td>\n",
       "      <td>82.21</td>\n",
       "      <td>Mozilla</td>\n",
       "      <td>5.0</td>\n",
       "      <td>22</td>\n",
       "      <td>3</td>\n",
       "      <td>CO</td>\n",
       "      <td>96415</td>\n",
       "    </tr>\n",
       "    <tr>\n",
       "      <th>9996</th>\n",
       "      <td>AM</td>\n",
       "      <td>Hale, Collins and Wilson</td>\n",
       "      <td>210033169205009</td>\n",
       "      <td>07/25</td>\n",
       "      <td>207</td>\n",
       "      <td>JCB</td>\n",
       "      <td>mary85@hotmail.com</td>\n",
       "      <td>Energy engineer</td>\n",
       "      <td>121.133.168.51</td>\n",
       "      <td>pt</td>\n",
       "      <td>25.63</td>\n",
       "      <td>Mozilla</td>\n",
       "      <td>5.0</td>\n",
       "      <td>25</td>\n",
       "      <td>7</td>\n",
       "      <td>TX</td>\n",
       "      <td>55158</td>\n",
       "    </tr>\n",
       "    <tr>\n",
       "      <th>9997</th>\n",
       "      <td>AM</td>\n",
       "      <td>Anderson Ltd</td>\n",
       "      <td>6011539787356311</td>\n",
       "      <td>05/21</td>\n",
       "      <td>1</td>\n",
       "      <td>VISA</td>\n",
       "      <td>tyler16@gmail.com</td>\n",
       "      <td>Veterinary surgeon</td>\n",
       "      <td>156.210.0.254</td>\n",
       "      <td>el</td>\n",
       "      <td>83.98</td>\n",
       "      <td>Mozilla</td>\n",
       "      <td>5.0</td>\n",
       "      <td>21</td>\n",
       "      <td>5</td>\n",
       "      <td>AE</td>\n",
       "      <td>28026</td>\n",
       "    </tr>\n",
       "    <tr>\n",
       "      <th>9998</th>\n",
       "      <td>PM</td>\n",
       "      <td>Cook Inc</td>\n",
       "      <td>180003348082930</td>\n",
       "      <td>11/17</td>\n",
       "      <td>987</td>\n",
       "      <td>American Express</td>\n",
       "      <td>elizabethmoore@reid.net</td>\n",
       "      <td>Local government officer</td>\n",
       "      <td>55.78.26.143</td>\n",
       "      <td>es</td>\n",
       "      <td>38.84</td>\n",
       "      <td>Mozilla</td>\n",
       "      <td>5.0</td>\n",
       "      <td>17</td>\n",
       "      <td>11</td>\n",
       "      <td>IA</td>\n",
       "      <td>12457</td>\n",
       "    </tr>\n",
       "    <tr>\n",
       "      <th>9999</th>\n",
       "      <td>AM</td>\n",
       "      <td>Greene Inc</td>\n",
       "      <td>4139972901927273</td>\n",
       "      <td>02/19</td>\n",
       "      <td>302</td>\n",
       "      <td>JCB</td>\n",
       "      <td>rachelford@vaughn.com</td>\n",
       "      <td>Embryologist, clinical</td>\n",
       "      <td>176.119.198.199</td>\n",
       "      <td>el</td>\n",
       "      <td>67.59</td>\n",
       "      <td>Mozilla</td>\n",
       "      <td>5.0</td>\n",
       "      <td>19</td>\n",
       "      <td>2</td>\n",
       "      <td>WI</td>\n",
       "      <td>79682</td>\n",
       "    </tr>\n",
       "  </tbody>\n",
       "</table>\n",
       "<p>10000 rows × 17 columns</p>\n",
       "</div>"
      ],
      "text/plain": [
       "     AM or PM                          Company       Credit Card CC Exp Date  \\\n",
       "0          PM                  Martinez-Herman  6011929061123406       02/20   \n",
       "1          PM  Fletcher, Richards and Whitaker  3337758169645356       11/18   \n",
       "2          PM       Simpson, Williams and Pham      675957666125       08/19   \n",
       "3          PM  Williams, Marshall and Buchanan  6011578504430710       02/24   \n",
       "4          AM        Brown, Watson and Andrews  6011456623207998       10/25   \n",
       "...       ...                              ...               ...         ...   \n",
       "9995       PM                    Randall-Sloan   342945015358701       03/22   \n",
       "9996       AM         Hale, Collins and Wilson   210033169205009       07/25   \n",
       "9997       AM                     Anderson Ltd  6011539787356311       05/21   \n",
       "9998       PM                         Cook Inc   180003348082930       11/17   \n",
       "9999       AM                       Greene Inc  4139972901927273       02/19   \n",
       "\n",
       "      CC Security Code                  CC Provider  \\\n",
       "0                  900                         JCB    \n",
       "1                  561                   Mastercard   \n",
       "2                  699                         JCB    \n",
       "3                  384                     Discover   \n",
       "4                  678  Diners Club / Carte Blanche   \n",
       "...                ...                          ...   \n",
       "9995               838                         JCB    \n",
       "9996               207                         JCB    \n",
       "9997                 1                        VISA    \n",
       "9998               987             American Express   \n",
       "9999               302                         JCB    \n",
       "\n",
       "                               Email                                     Job  \\\n",
       "0                  pdunlap@yahoo.com  Scientist, product/process development   \n",
       "1                 anthony41@reed.com                       Drilling engineer   \n",
       "2     amymiller@morales-harrison.com                Customer service manager   \n",
       "3        brent16@olson-robinson.info                       Drilling engineer   \n",
       "4        christopherwright@gmail.com                             Fine artist   \n",
       "...                              ...                                     ...   \n",
       "9995          iscott@wade-garner.com                              Printmaker   \n",
       "9996              mary85@hotmail.com                         Energy engineer   \n",
       "9997               tyler16@gmail.com                      Veterinary surgeon   \n",
       "9998         elizabethmoore@reid.net                Local government officer   \n",
       "9999           rachelford@vaughn.com                  Embryologist, clinical   \n",
       "\n",
       "           IP Address Language  Purchase Price  Browser Browser Version  \\\n",
       "0     149.146.147.205       el           98.14    Opera           9.56.   \n",
       "1        15.160.41.51       fr           70.73    Opera           8.93.   \n",
       "2      132.207.160.22       de            0.95  Mozilla             5.0   \n",
       "3        30.250.74.19       es           78.04  Mozilla             5.0   \n",
       "4        24.140.33.94       es           77.82    Opera           9.58.   \n",
       "...               ...      ...             ...      ...             ...   \n",
       "9995    29.73.197.114       it           82.21  Mozilla             5.0   \n",
       "9996   121.133.168.51       pt           25.63  Mozilla             5.0   \n",
       "9997    156.210.0.254       el           83.98  Mozilla             5.0   \n",
       "9998     55.78.26.143       es           38.84  Mozilla             5.0   \n",
       "9999  176.119.198.199       el           67.59  Mozilla             5.0   \n",
       "\n",
       "      CC Exp Year  CC Exp Month State  ZIP Code  \n",
       "0              20             2    NE     77130  \n",
       "1              18            11    TN     84355  \n",
       "2              19             8    AP     27450  \n",
       "3              24             2    WA     45798  \n",
       "4              25            10    TX     57826  \n",
       "...           ...           ...   ...       ...  \n",
       "9995           22             3    CO     96415  \n",
       "9996           25             7    TX     55158  \n",
       "9997           21             5    AE     28026  \n",
       "9998           17            11    IA     12457  \n",
       "9999           19             2    WI     79682  \n",
       "\n",
       "[10000 rows x 17 columns]"
      ]
     },
     "execution_count": 15,
     "metadata": {},
     "output_type": "execute_result"
    }
   ],
   "source": [
    "cleaned_ecom = cleaned_ecom.drop_duplicates() #drop duplicates if any\n",
    "cleaned_ecom"
   ]
  },
  {
   "cell_type": "code",
   "execution_count": 16,
   "metadata": {},
   "outputs": [
    {
     "data": {
      "text/html": [
       "<div>\n",
       "<style scoped>\n",
       "    .dataframe tbody tr th:only-of-type {\n",
       "        vertical-align: middle;\n",
       "    }\n",
       "\n",
       "    .dataframe tbody tr th {\n",
       "        vertical-align: top;\n",
       "    }\n",
       "\n",
       "    .dataframe thead th {\n",
       "        text-align: right;\n",
       "    }\n",
       "</style>\n",
       "<table border=\"1\" class=\"dataframe\">\n",
       "  <thead>\n",
       "    <tr style=\"text-align: right;\">\n",
       "      <th></th>\n",
       "      <th>Credit Card</th>\n",
       "      <th>CC Security Code</th>\n",
       "      <th>Purchase Price</th>\n",
       "      <th>CC Exp Year</th>\n",
       "      <th>CC Exp Month</th>\n",
       "      <th>ZIP Code</th>\n",
       "    </tr>\n",
       "  </thead>\n",
       "  <tbody>\n",
       "    <tr>\n",
       "      <th>count</th>\n",
       "      <td>1.000000e+04</td>\n",
       "      <td>10000.000000</td>\n",
       "      <td>10000.000000</td>\n",
       "      <td>10000.000000</td>\n",
       "      <td>10000.00000</td>\n",
       "      <td>10000.000000</td>\n",
       "    </tr>\n",
       "    <tr>\n",
       "      <th>mean</th>\n",
       "      <td>2.341374e+15</td>\n",
       "      <td>907.217800</td>\n",
       "      <td>50.347302</td>\n",
       "      <td>21.173100</td>\n",
       "      <td>6.42570</td>\n",
       "      <td>49808.190700</td>\n",
       "    </tr>\n",
       "    <tr>\n",
       "      <th>std</th>\n",
       "      <td>2.256103e+15</td>\n",
       "      <td>1589.693035</td>\n",
       "      <td>29.015836</td>\n",
       "      <td>2.918114</td>\n",
       "      <td>3.46648</td>\n",
       "      <td>28965.375251</td>\n",
       "    </tr>\n",
       "    <tr>\n",
       "      <th>min</th>\n",
       "      <td>6.040186e+10</td>\n",
       "      <td>0.000000</td>\n",
       "      <td>0.000000</td>\n",
       "      <td>16.000000</td>\n",
       "      <td>1.00000</td>\n",
       "      <td>29.000000</td>\n",
       "    </tr>\n",
       "    <tr>\n",
       "      <th>25%</th>\n",
       "      <td>3.056322e+13</td>\n",
       "      <td>280.000000</td>\n",
       "      <td>25.150000</td>\n",
       "      <td>19.000000</td>\n",
       "      <td>3.00000</td>\n",
       "      <td>24745.000000</td>\n",
       "    </tr>\n",
       "    <tr>\n",
       "      <th>50%</th>\n",
       "      <td>8.699942e+14</td>\n",
       "      <td>548.000000</td>\n",
       "      <td>50.505000</td>\n",
       "      <td>21.000000</td>\n",
       "      <td>6.00000</td>\n",
       "      <td>49695.000000</td>\n",
       "    </tr>\n",
       "    <tr>\n",
       "      <th>75%</th>\n",
       "      <td>4.492298e+15</td>\n",
       "      <td>816.000000</td>\n",
       "      <td>75.770000</td>\n",
       "      <td>24.000000</td>\n",
       "      <td>9.00000</td>\n",
       "      <td>75011.250000</td>\n",
       "    </tr>\n",
       "    <tr>\n",
       "      <th>max</th>\n",
       "      <td>6.012000e+15</td>\n",
       "      <td>9993.000000</td>\n",
       "      <td>99.990000</td>\n",
       "      <td>26.000000</td>\n",
       "      <td>12.00000</td>\n",
       "      <td>99994.000000</td>\n",
       "    </tr>\n",
       "  </tbody>\n",
       "</table>\n",
       "</div>"
      ],
      "text/plain": [
       "        Credit Card  CC Security Code  Purchase Price   CC Exp Year  \\\n",
       "count  1.000000e+04      10000.000000    10000.000000  10000.000000   \n",
       "mean   2.341374e+15        907.217800       50.347302     21.173100   \n",
       "std    2.256103e+15       1589.693035       29.015836      2.918114   \n",
       "min    6.040186e+10          0.000000        0.000000     16.000000   \n",
       "25%    3.056322e+13        280.000000       25.150000     19.000000   \n",
       "50%    8.699942e+14        548.000000       50.505000     21.000000   \n",
       "75%    4.492298e+15        816.000000       75.770000     24.000000   \n",
       "max    6.012000e+15       9993.000000       99.990000     26.000000   \n",
       "\n",
       "       CC Exp Month      ZIP Code  \n",
       "count   10000.00000  10000.000000  \n",
       "mean        6.42570  49808.190700  \n",
       "std         3.46648  28965.375251  \n",
       "min         1.00000     29.000000  \n",
       "25%         3.00000  24745.000000  \n",
       "50%         6.00000  49695.000000  \n",
       "75%         9.00000  75011.250000  \n",
       "max        12.00000  99994.000000  "
      ]
     },
     "execution_count": 16,
     "metadata": {},
     "output_type": "execute_result"
    }
   ],
   "source": [
    "cleaned_ecom.describe()"
   ]
  },
  {
   "cell_type": "code",
   "execution_count": 17,
   "metadata": {},
   "outputs": [],
   "source": [
    "\n",
    "class DataFrameWithImputor():\n",
    "    def __init__(self,df):\n",
    "        self.df=df\n",
    "        \n",
    "    def get_data_frame(self):\n",
    "        return self.df\n",
    "    \n",
    "       \n",
    "    #Randomly find indexes for x% of the column to populate with NaN values\n",
    "    def introduce_errors(self, attribute, percent):\n",
    "        column = self.df[attribute]\n",
    "        error_data = int(column.size * percent)\n",
    "        i = [random.choice(range(column.shape[0])) for _ in range(error_data)]\n",
    "        column[i] = np.NaN\n",
    "        self.df[attribute] = column\n",
    "        return len(set(i)) # lengh of error indexes\n",
    "    \n",
    "    #Randomly find indexes for x% of the cells to populate with NaN values\n",
    "    def introduce_errors_in_dataframe(self, percent):\n",
    "        rows = len(self.df.index)\n",
    "        error_data = int(rows * percent)\n",
    "        columns = len(self.df.columns)\n",
    "        for i in range(error_data):\n",
    "            col = i  % columns\n",
    "            row = i % rows\n",
    "            self.df.iloc[row,col] = np.NaN\n",
    "        return self.df.isnull().sum().sum()\n",
    "\n",
    "\n",
    "\n",
    "    def impute(self,column,value):\n",
    "        #Impute NaN values in the column with a value\n",
    "\n",
    "        null_values = self.df[self.df[column].isnull()].index\n",
    "\n",
    "        for i in range(len(null_values)):\n",
    "            self.df[column][null_values]  = value\n",
    "\n",
    "        col_description = pd.DataFrame(self.df[column].describe())\n",
    "        col_description.loc['Frequent'] = self.df[column].value_counts().idxmax()\n",
    "        return col_description\n",
    "\n",
    "    def get_nan_count(self):\n",
    "        return self.df.isnull().sum()\n",
    "    \n",
    "    \n",
    "    def find_empty_string(self):\n",
    "        return np.where(self.df.applymap(lambda x: x == '')) # return rows with empty string\n",
    "    \n",
    "    def nan_values_in_column(self):\n",
    "        return np.where(pd.isnull(self.df)) #return indexes for null values in a row\n",
    "    \n",
    "    def describe(self):\n",
    "        return self.df.describe\n",
    "    \n",
    "    def describe_col(self, col):\n",
    "        desc = pd.DataFrame(self.df[col].describe())\n",
    "        \n",
    "        desc.loc['Frequent'] = self.df[col].value_counts().idxmax()\n",
    "        return desc\n",
    "    \n",
    "    def fillforward(self):\n",
    "        self.df = self.df.fillna(method='ffill',axis = 0)\n",
    "        \n",
    "     \n",
    "    def fillbackward(self):\n",
    "        self.df = self.df.fillna(method='bfill',axis = 0)\n",
    "        \n",
    "        \n",
    "   \n",
    "        "
   ]
  },
  {
   "cell_type": "code",
   "execution_count": 18,
   "metadata": {},
   "outputs": [],
   "source": [
    "unimputed = DataFrameWithImputor(cleaned_ecom) \n",
    "if len(unimputed.find_empty_string()) > 2:\n",
    "    print('Empty strings in the data frame')\n",
    "    \n",
    "if len(unimputed.nan_values_in_column()) > 2:\n",
    "    print('NaN in the data frame')\n",
    "    "
   ]
  },
  {
   "cell_type": "code",
   "execution_count": 19,
   "metadata": {},
   "outputs": [],
   "source": [
    " def do_imputation(df,column,error_rate,condition = None  ):\n",
    "        \n",
    "        imp = DataFrameWithImputor(df.copy()) \n",
    "\n",
    "        imp.introduce_errors(column,error_rate)\n",
    "        \n",
    "        if condition != None:\n",
    "            imp.impute(column,condition)\n",
    "        else:\n",
    "            #Impute through backfill and forwardfill\n",
    "            imp.fillbackward()\n",
    "            imp.fillforward()\n",
    "        \n",
    "        return imp\n",
    "    \n",
    "    "
   ]
  },
  {
   "cell_type": "code",
   "execution_count": 20,
   "metadata": {},
   "outputs": [
    {
     "name": "stderr",
     "output_type": "stream",
     "text": [
      "<ipython-input-17-131b12dead61>:14: SettingWithCopyWarning: \n",
      "A value is trying to be set on a copy of a slice from a DataFrame\n",
      "\n",
      "See the caveats in the documentation: https://pandas.pydata.org/pandas-docs/stable/user_guide/indexing.html#returning-a-view-versus-a-copy\n",
      "  column[i] = np.NaN\n",
      "<ipython-input-17-131b12dead61>:37: SettingWithCopyWarning: \n",
      "A value is trying to be set on a copy of a slice from a DataFrame\n",
      "\n",
      "See the caveats in the documentation: https://pandas.pydata.org/pandas-docs/stable/user_guide/indexing.html#returning-a-view-versus-a-copy\n",
      "  self.df[column][null_values]  = value\n"
     ]
    }
   ],
   "source": [
    "#####\n",
    "#  Mean imputation\n",
    "#####\n",
    "\n",
    "mean_imputed = do_imputation(cleaned_ecom,'Purchase Price',.1, cleaned_ecom['Purchase Price'].mean())\n",
    "\n",
    "\n",
    "#####\n",
    "#  Median imputation\n",
    "#####\n",
    "#Impute NaN values in the column with the median\n",
    "\n",
    "\n",
    "median_imputed = do_imputation(cleaned_ecom,'Purchase Price',.1, cleaned_ecom['Purchase Price'].median())\n",
    "\n",
    "#####\n",
    "#  Random imputation\n",
    "#####\n",
    "\n",
    "random_imputed = do_imputation(cleaned_ecom,'Purchase Price',.1,random.choice(range(1,99))) \n",
    "\n",
    "#####\n",
    "#  Impute with constant\n",
    "#####\n",
    "\n",
    "const_imputed = do_imputation(cleaned_ecom,'Purchase Price',.1, 50)\n",
    "\n",
    "#Forward and backward fill to impute data\n",
    "#\n",
    "#\n",
    "fill_imputed = do_imputation(cleaned_ecom,'Purchase Price',.1) \n",
    "\n"
   ]
  },
  {
   "cell_type": "code",
   "execution_count": 21,
   "metadata": {},
   "outputs": [
    {
     "data": {
      "text/html": [
       "<div>\n",
       "<style scoped>\n",
       "    .dataframe tbody tr th:only-of-type {\n",
       "        vertical-align: middle;\n",
       "    }\n",
       "\n",
       "    .dataframe tbody tr th {\n",
       "        vertical-align: top;\n",
       "    }\n",
       "\n",
       "    .dataframe thead th {\n",
       "        text-align: right;\n",
       "    }\n",
       "</style>\n",
       "<table border=\"1\" class=\"dataframe\">\n",
       "  <thead>\n",
       "    <tr style=\"text-align: right;\">\n",
       "      <th></th>\n",
       "      <th>Purchase Price</th>\n",
       "    </tr>\n",
       "  </thead>\n",
       "  <tbody>\n",
       "    <tr>\n",
       "      <th>count</th>\n",
       "      <td>10000.000000</td>\n",
       "    </tr>\n",
       "    <tr>\n",
       "      <th>mean</th>\n",
       "      <td>50.163505</td>\n",
       "    </tr>\n",
       "    <tr>\n",
       "      <th>std</th>\n",
       "      <td>29.204174</td>\n",
       "    </tr>\n",
       "    <tr>\n",
       "      <th>min</th>\n",
       "      <td>0.000000</td>\n",
       "    </tr>\n",
       "    <tr>\n",
       "      <th>25%</th>\n",
       "      <td>24.760000</td>\n",
       "    </tr>\n",
       "    <tr>\n",
       "      <th>50%</th>\n",
       "      <td>50.145000</td>\n",
       "    </tr>\n",
       "    <tr>\n",
       "      <th>75%</th>\n",
       "      <td>75.787500</td>\n",
       "    </tr>\n",
       "    <tr>\n",
       "      <th>max</th>\n",
       "      <td>99.990000</td>\n",
       "    </tr>\n",
       "    <tr>\n",
       "      <th>Frequent</th>\n",
       "      <td>98.250000</td>\n",
       "    </tr>\n",
       "  </tbody>\n",
       "</table>\n",
       "</div>"
      ],
      "text/plain": [
       "          Purchase Price\n",
       "count       10000.000000\n",
       "mean           50.163505\n",
       "std            29.204174\n",
       "min             0.000000\n",
       "25%            24.760000\n",
       "50%            50.145000\n",
       "75%            75.787500\n",
       "max            99.990000\n",
       "Frequent       98.250000"
      ]
     },
     "execution_count": 21,
     "metadata": {},
     "output_type": "execute_result"
    }
   ],
   "source": [
    "fill_imputed.describe_col('Purchase Price')"
   ]
  },
  {
   "cell_type": "code",
   "execution_count": 22,
   "metadata": {
    "scrolled": true
   },
   "outputs": [
    {
     "data": {
      "text/html": [
       "<div>\n",
       "<style scoped>\n",
       "    .dataframe tbody tr th:only-of-type {\n",
       "        vertical-align: middle;\n",
       "    }\n",
       "\n",
       "    .dataframe tbody tr th {\n",
       "        vertical-align: top;\n",
       "    }\n",
       "\n",
       "    .dataframe thead th {\n",
       "        text-align: right;\n",
       "    }\n",
       "</style>\n",
       "<table border=\"1\" class=\"dataframe\">\n",
       "  <thead>\n",
       "    <tr style=\"text-align: right;\">\n",
       "      <th></th>\n",
       "      <th>Purchase Price</th>\n",
       "    </tr>\n",
       "  </thead>\n",
       "  <tbody>\n",
       "    <tr>\n",
       "      <th>count</th>\n",
       "      <td>10000.000000</td>\n",
       "    </tr>\n",
       "    <tr>\n",
       "      <th>mean</th>\n",
       "      <td>50.186560</td>\n",
       "    </tr>\n",
       "    <tr>\n",
       "      <th>std</th>\n",
       "      <td>27.624231</td>\n",
       "    </tr>\n",
       "    <tr>\n",
       "      <th>min</th>\n",
       "      <td>0.000000</td>\n",
       "    </tr>\n",
       "    <tr>\n",
       "      <th>25%</th>\n",
       "      <td>27.610000</td>\n",
       "    </tr>\n",
       "    <tr>\n",
       "      <th>50%</th>\n",
       "      <td>50.000000</td>\n",
       "    </tr>\n",
       "    <tr>\n",
       "      <th>75%</th>\n",
       "      <td>72.742500</td>\n",
       "    </tr>\n",
       "    <tr>\n",
       "      <th>max</th>\n",
       "      <td>99.990000</td>\n",
       "    </tr>\n",
       "    <tr>\n",
       "      <th>Frequent</th>\n",
       "      <td>50.000000</td>\n",
       "    </tr>\n",
       "  </tbody>\n",
       "</table>\n",
       "</div>"
      ],
      "text/plain": [
       "          Purchase Price\n",
       "count       10000.000000\n",
       "mean           50.186560\n",
       "std            27.624231\n",
       "min             0.000000\n",
       "25%            27.610000\n",
       "50%            50.000000\n",
       "75%            72.742500\n",
       "max            99.990000\n",
       "Frequent       50.000000"
      ]
     },
     "execution_count": 22,
     "metadata": {},
     "output_type": "execute_result"
    }
   ],
   "source": [
    "const_imputed.describe_col('Purchase Price')"
   ]
  },
  {
   "cell_type": "code",
   "execution_count": 23,
   "metadata": {},
   "outputs": [
    {
     "data": {
      "text/html": [
       "<div>\n",
       "<style scoped>\n",
       "    .dataframe tbody tr th:only-of-type {\n",
       "        vertical-align: middle;\n",
       "    }\n",
       "\n",
       "    .dataframe tbody tr th {\n",
       "        vertical-align: top;\n",
       "    }\n",
       "\n",
       "    .dataframe thead th {\n",
       "        text-align: right;\n",
       "    }\n",
       "</style>\n",
       "<table border=\"1\" class=\"dataframe\">\n",
       "  <thead>\n",
       "    <tr style=\"text-align: right;\">\n",
       "      <th></th>\n",
       "      <th>Purchase Price</th>\n",
       "    </tr>\n",
       "  </thead>\n",
       "  <tbody>\n",
       "    <tr>\n",
       "      <th>count</th>\n",
       "      <td>10000.000000</td>\n",
       "    </tr>\n",
       "    <tr>\n",
       "      <th>mean</th>\n",
       "      <td>50.397799</td>\n",
       "    </tr>\n",
       "    <tr>\n",
       "      <th>std</th>\n",
       "      <td>27.612941</td>\n",
       "    </tr>\n",
       "    <tr>\n",
       "      <th>min</th>\n",
       "      <td>0.000000</td>\n",
       "    </tr>\n",
       "    <tr>\n",
       "      <th>25%</th>\n",
       "      <td>27.810000</td>\n",
       "    </tr>\n",
       "    <tr>\n",
       "      <th>50%</th>\n",
       "      <td>50.505000</td>\n",
       "    </tr>\n",
       "    <tr>\n",
       "      <th>75%</th>\n",
       "      <td>73.025000</td>\n",
       "    </tr>\n",
       "    <tr>\n",
       "      <th>max</th>\n",
       "      <td>99.990000</td>\n",
       "    </tr>\n",
       "    <tr>\n",
       "      <th>Frequent</th>\n",
       "      <td>50.505000</td>\n",
       "    </tr>\n",
       "  </tbody>\n",
       "</table>\n",
       "</div>"
      ],
      "text/plain": [
       "          Purchase Price\n",
       "count       10000.000000\n",
       "mean           50.397799\n",
       "std            27.612941\n",
       "min             0.000000\n",
       "25%            27.810000\n",
       "50%            50.505000\n",
       "75%            73.025000\n",
       "max            99.990000\n",
       "Frequent       50.505000"
      ]
     },
     "execution_count": 23,
     "metadata": {},
     "output_type": "execute_result"
    }
   ],
   "source": [
    "median_imputed.describe_col('Purchase Price')"
   ]
  },
  {
   "cell_type": "code",
   "execution_count": 24,
   "metadata": {},
   "outputs": [
    {
     "data": {
      "text/html": [
       "<div>\n",
       "<style scoped>\n",
       "    .dataframe tbody tr th:only-of-type {\n",
       "        vertical-align: middle;\n",
       "    }\n",
       "\n",
       "    .dataframe tbody tr th {\n",
       "        vertical-align: top;\n",
       "    }\n",
       "\n",
       "    .dataframe thead th {\n",
       "        text-align: right;\n",
       "    }\n",
       "</style>\n",
       "<table border=\"1\" class=\"dataframe\">\n",
       "  <thead>\n",
       "    <tr style=\"text-align: right;\">\n",
       "      <th></th>\n",
       "      <th>Purchase Price</th>\n",
       "    </tr>\n",
       "  </thead>\n",
       "  <tbody>\n",
       "    <tr>\n",
       "      <th>count</th>\n",
       "      <td>10000.000000</td>\n",
       "    </tr>\n",
       "    <tr>\n",
       "      <th>mean</th>\n",
       "      <td>47.054231</td>\n",
       "    </tr>\n",
       "    <tr>\n",
       "      <th>std</th>\n",
       "      <td>29.531057</td>\n",
       "    </tr>\n",
       "    <tr>\n",
       "      <th>min</th>\n",
       "      <td>0.000000</td>\n",
       "    </tr>\n",
       "    <tr>\n",
       "      <th>25%</th>\n",
       "      <td>17.407500</td>\n",
       "    </tr>\n",
       "    <tr>\n",
       "      <th>50%</th>\n",
       "      <td>45.500000</td>\n",
       "    </tr>\n",
       "    <tr>\n",
       "      <th>75%</th>\n",
       "      <td>73.130000</td>\n",
       "    </tr>\n",
       "    <tr>\n",
       "      <th>max</th>\n",
       "      <td>99.990000</td>\n",
       "    </tr>\n",
       "    <tr>\n",
       "      <th>Frequent</th>\n",
       "      <td>15.000000</td>\n",
       "    </tr>\n",
       "  </tbody>\n",
       "</table>\n",
       "</div>"
      ],
      "text/plain": [
       "          Purchase Price\n",
       "count       10000.000000\n",
       "mean           47.054231\n",
       "std            29.531057\n",
       "min             0.000000\n",
       "25%            17.407500\n",
       "50%            45.500000\n",
       "75%            73.130000\n",
       "max            99.990000\n",
       "Frequent       15.000000"
      ]
     },
     "execution_count": 24,
     "metadata": {},
     "output_type": "execute_result"
    }
   ],
   "source": [
    "random_imputed.describe_col('Purchase Price')"
   ]
  },
  {
   "cell_type": "code",
   "execution_count": 25,
   "metadata": {},
   "outputs": [
    {
     "data": {
      "text/html": [
       "<div>\n",
       "<style scoped>\n",
       "    .dataframe tbody tr th:only-of-type {\n",
       "        vertical-align: middle;\n",
       "    }\n",
       "\n",
       "    .dataframe tbody tr th {\n",
       "        vertical-align: top;\n",
       "    }\n",
       "\n",
       "    .dataframe thead th {\n",
       "        text-align: right;\n",
       "    }\n",
       "</style>\n",
       "<table border=\"1\" class=\"dataframe\">\n",
       "  <thead>\n",
       "    <tr style=\"text-align: right;\">\n",
       "      <th></th>\n",
       "      <th>Purchase Price</th>\n",
       "    </tr>\n",
       "  </thead>\n",
       "  <tbody>\n",
       "    <tr>\n",
       "      <th>count</th>\n",
       "      <td>10000.000000</td>\n",
       "    </tr>\n",
       "    <tr>\n",
       "      <th>mean</th>\n",
       "      <td>50.241908</td>\n",
       "    </tr>\n",
       "    <tr>\n",
       "      <th>std</th>\n",
       "      <td>27.600676</td>\n",
       "    </tr>\n",
       "    <tr>\n",
       "      <th>min</th>\n",
       "      <td>0.000000</td>\n",
       "    </tr>\n",
       "    <tr>\n",
       "      <th>25%</th>\n",
       "      <td>27.680000</td>\n",
       "    </tr>\n",
       "    <tr>\n",
       "      <th>50%</th>\n",
       "      <td>50.347302</td>\n",
       "    </tr>\n",
       "    <tr>\n",
       "      <th>75%</th>\n",
       "      <td>72.790000</td>\n",
       "    </tr>\n",
       "    <tr>\n",
       "      <th>max</th>\n",
       "      <td>99.990000</td>\n",
       "    </tr>\n",
       "    <tr>\n",
       "      <th>Frequent</th>\n",
       "      <td>50.347302</td>\n",
       "    </tr>\n",
       "  </tbody>\n",
       "</table>\n",
       "</div>"
      ],
      "text/plain": [
       "          Purchase Price\n",
       "count       10000.000000\n",
       "mean           50.241908\n",
       "std            27.600676\n",
       "min             0.000000\n",
       "25%            27.680000\n",
       "50%            50.347302\n",
       "75%            72.790000\n",
       "max            99.990000\n",
       "Frequent       50.347302"
      ]
     },
     "execution_count": 25,
     "metadata": {},
     "output_type": "execute_result"
    }
   ],
   "source": [
    "mean_imputed.describe_col('Purchase Price')"
   ]
  },
  {
   "cell_type": "code",
   "execution_count": 26,
   "metadata": {},
   "outputs": [
    {
     "data": {
      "text/html": [
       "<div>\n",
       "<style scoped>\n",
       "    .dataframe tbody tr th:only-of-type {\n",
       "        vertical-align: middle;\n",
       "    }\n",
       "\n",
       "    .dataframe tbody tr th {\n",
       "        vertical-align: top;\n",
       "    }\n",
       "\n",
       "    .dataframe thead th {\n",
       "        text-align: right;\n",
       "    }\n",
       "</style>\n",
       "<table border=\"1\" class=\"dataframe\">\n",
       "  <thead>\n",
       "    <tr style=\"text-align: right;\">\n",
       "      <th></th>\n",
       "      <th>Purchase Price</th>\n",
       "    </tr>\n",
       "  </thead>\n",
       "  <tbody>\n",
       "    <tr>\n",
       "      <th>count</th>\n",
       "      <td>10000.000000</td>\n",
       "    </tr>\n",
       "    <tr>\n",
       "      <th>mean</th>\n",
       "      <td>50.347302</td>\n",
       "    </tr>\n",
       "    <tr>\n",
       "      <th>std</th>\n",
       "      <td>29.015836</td>\n",
       "    </tr>\n",
       "    <tr>\n",
       "      <th>min</th>\n",
       "      <td>0.000000</td>\n",
       "    </tr>\n",
       "    <tr>\n",
       "      <th>25%</th>\n",
       "      <td>25.150000</td>\n",
       "    </tr>\n",
       "    <tr>\n",
       "      <th>50%</th>\n",
       "      <td>50.505000</td>\n",
       "    </tr>\n",
       "    <tr>\n",
       "      <th>75%</th>\n",
       "      <td>75.770000</td>\n",
       "    </tr>\n",
       "    <tr>\n",
       "      <th>max</th>\n",
       "      <td>99.990000</td>\n",
       "    </tr>\n",
       "    <tr>\n",
       "      <th>Frequent</th>\n",
       "      <td>49.730000</td>\n",
       "    </tr>\n",
       "  </tbody>\n",
       "</table>\n",
       "</div>"
      ],
      "text/plain": [
       "          Purchase Price\n",
       "count       10000.000000\n",
       "mean           50.347302\n",
       "std            29.015836\n",
       "min             0.000000\n",
       "25%            25.150000\n",
       "50%            50.505000\n",
       "75%            75.770000\n",
       "max            99.990000\n",
       "Frequent       49.730000"
      ]
     },
     "execution_count": 26,
     "metadata": {},
     "output_type": "execute_result"
    }
   ],
   "source": [
    "unimputed.describe_col('Purchase Price')"
   ]
  },
  {
   "cell_type": "code",
   "execution_count": 27,
   "metadata": {},
   "outputs": [],
   "source": [
    "df = mean_imputed.get_data_frame()\n"
   ]
  },
  {
   "cell_type": "markdown",
   "metadata": {},
   "source": [
    "#### 1. Find the relationship between Job designation and total Purchase amount"
   ]
  },
  {
   "cell_type": "code",
   "execution_count": 28,
   "metadata": {},
   "outputs": [
    {
     "data": {
      "text/html": [
       "<div>\n",
       "<style scoped>\n",
       "    .dataframe tbody tr th:only-of-type {\n",
       "        vertical-align: middle;\n",
       "    }\n",
       "\n",
       "    .dataframe tbody tr th {\n",
       "        vertical-align: top;\n",
       "    }\n",
       "\n",
       "    .dataframe thead th {\n",
       "        text-align: right;\n",
       "    }\n",
       "</style>\n",
       "<table border=\"1\" class=\"dataframe\">\n",
       "  <thead>\n",
       "    <tr style=\"text-align: right;\">\n",
       "      <th></th>\n",
       "      <th>Job</th>\n",
       "      <th>Purchase Price</th>\n",
       "    </tr>\n",
       "  </thead>\n",
       "  <tbody>\n",
       "    <tr>\n",
       "      <th>158</th>\n",
       "      <td>Dietitian</td>\n",
       "      <td>1611.371906</td>\n",
       "    </tr>\n",
       "    <tr>\n",
       "      <th>325</th>\n",
       "      <td>Lawyer</td>\n",
       "      <td>1576.551906</td>\n",
       "    </tr>\n",
       "    <tr>\n",
       "      <th>473</th>\n",
       "      <td>Purchasing manager</td>\n",
       "      <td>1540.507302</td>\n",
       "    </tr>\n",
       "    <tr>\n",
       "      <th>312</th>\n",
       "      <td>Interior and spatial designer</td>\n",
       "      <td>1512.861906</td>\n",
       "    </tr>\n",
       "    <tr>\n",
       "      <th>489</th>\n",
       "      <td>Research officer, political party</td>\n",
       "      <td>1498.654604</td>\n",
       "    </tr>\n",
       "  </tbody>\n",
       "</table>\n",
       "</div>"
      ],
      "text/plain": [
       "                                   Job  Purchase Price\n",
       "158                          Dietitian     1611.371906\n",
       "325                             Lawyer     1576.551906\n",
       "473                 Purchasing manager     1540.507302\n",
       "312      Interior and spatial designer     1512.861906\n",
       "489  Research officer, political party     1498.654604"
      ]
     },
     "execution_count": 28,
     "metadata": {},
     "output_type": "execute_result"
    }
   ],
   "source": [
    "job = df.groupby(by=['Job'], as_index=False)['Purchase Price'].sum()#group by Job and sort by total purchase amount\n",
    "\n",
    "res1= job.sort_values(by='Purchase Price', ascending=False).iloc[:5,:] #get top 5 profession and corresponding purchase\n",
    "res1 #On first sight it looks like dietitian is the designation that is spending the most amount"
   ]
  },
  {
   "cell_type": "code",
   "execution_count": 29,
   "metadata": {},
   "outputs": [
    {
     "data": {
      "text/plain": [
       "[Text(0, 0, 'Dietitian'),\n",
       " Text(0, 0, 'Lawyer'),\n",
       " Text(0, 0, 'Purchasing manager'),\n",
       " Text(0, 0, 'Interior and spatial designer'),\n",
       " Text(0, 0, 'Research officer, political party')]"
      ]
     },
     "execution_count": 29,
     "metadata": {},
     "output_type": "execute_result"
    },
    {
     "data": {
      "image/png": "[encoded data removed]",
      "text/plain": [
       "<Figure size 432x288 with 1 Axes>"
      ]
     },
     "metadata": {
      "needs_background": "light"
     },
     "output_type": "display_data"
    }
   ],
   "source": [
    "ax = sns.barplot(x = \"Job\", y = \"Purchase Price\", data = res1)\n",
    "ax.set(xlabel=\"Profession\", ylabel = \"Total Purchase\")\n",
    "ax.set_xticklabels(ax.get_xticklabels(), rotation=45, horizontalalignment='right')"
   ]
  },
  {
   "cell_type": "markdown",
   "metadata": {},
   "source": [
    "#### 1.1. Find the relationship between Job designation and mean Purchase amount"
   ]
  },
  {
   "cell_type": "code",
   "execution_count": 30,
   "metadata": {},
   "outputs": [
    {
     "data": {
      "image/png": "[encoded data removed]",
      "text/plain": [
       "<Figure size 432x288 with 1 Axes>"
      ]
     },
     "metadata": {
      "needs_background": "light"
     },
     "output_type": "display_data"
    }
   ],
   "source": [
    "job = df.groupby(by=['Job'], as_index=False)['Purchase Price'].mean()\n",
    "res2= job.sort_values(by='Purchase Price', ascending=False).iloc[:5,:]\n",
    "res2\n",
    "#Calculating the mean Purchase price by Job Designation\n",
    "#We can see that Trade Mark attorney is the job type that makes the biggest ppurchases on avg\n",
    "\n",
    "ax = sns.barplot(x = \"Job\", y = \"Purchase Price\", data = res2)\n",
    "ax.set(xlabel=\"Professional\", ylabel = \"Avg Purchase\")\n",
    "ax.set_xticklabels(ax.get_xticklabels(), rotation=45, horizontalalignment='right')\n",
    "plt.show()"
   ]
  },
  {
   "cell_type": "markdown",
   "metadata": {},
   "source": [
    "\n",
    "#### 2. Bi-variate analysis of Profession, Purchase counts against browsers used"
   ]
  },
  {
   "cell_type": "code",
   "execution_count": 31,
   "metadata": {
    "scrolled": true
   },
   "outputs": [
    {
     "data": {
      "image/png": "[encoded data removed]",
      "text/plain": [
       "<Figure size 432x288 with 1 Axes>"
      ]
     },
     "metadata": {
      "needs_background": "light"
     },
     "output_type": "display_data"
    }
   ],
   "source": [
    "#Group by job and browser preferences\n",
    "jobBrowser = df.groupby(by=['Job', 'Browser'], as_index=False, )['Purchase Price'].count() \n",
    "plt.title(f\"Browser Preferences of largest job groups :\")\n",
    "ax = sns.barplot(x = \"Purchase Price_y\", y = \"Job\",hue=\"Browser\" ,  \n",
    "                 orient = 'h', data = res1.merge(jobBrowser,on = 'Job' ,how = 'inner')) #merge with top 5 jobs\n",
    "ax.set(ylabel=\"Job\", xlabel = \"Total Count of Purchases\")\n",
    "ax.set_xticklabels(ax.get_xticklabels(), rotation=45, horizontalalignment='right')\n",
    "plt.legend(loc='center left', bbox_to_anchor=(1.0, 0.5))\n",
    "plt.show()"
   ]
  },
  {
   "cell_type": "code",
   "execution_count": 32,
   "metadata": {
    "scrolled": false
   },
   "outputs": [
    {
     "data": {
      "image/png": "[encoded data removed]",
      "text/plain": [
       "<Figure size 432x288 with 1 Axes>"
      ]
     },
     "metadata": {
      "needs_background": "light"
     },
     "output_type": "display_data"
    }
   ],
   "source": [
    "plt.title(f\"Browser Preferences of top spending job groups :\")\n",
    "ax = sns.barplot(x = \"Purchase Price_y\", y = \"Job\",hue=\"Browser\" , orient = 'h', \n",
    "                 data = res2.merge(jobBrowser,on = 'Job' ,how = 'inner'))\n",
    "ax.set(ylabel=\"Job\", xlabel = \"Total Count of Purchases\")\n",
    "ax.set_xticklabels(ax.get_xticklabels(), rotation=45, horizontalalignment='right')\n",
    "plt.legend(loc='center left', bbox_to_anchor=(1.0, 0.5))\n",
    "plt.show()"
   ]
  },
  {
   "cell_type": "code",
   "execution_count": 33,
   "metadata": {},
   "outputs": [],
   "source": [
    "#### 3. Top five states (locations) that purchases"
   ]
  },
  {
   "cell_type": "code",
   "execution_count": 34,
   "metadata": {
    "scrolled": true
   },
   "outputs": [
    {
     "data": {
      "image/png": "[encoded data removed]",
      "text/plain": [
       "<Figure size 432x288 with 1 Axes>"
      ]
     },
     "metadata": {
      "needs_background": "light"
     },
     "output_type": "display_data"
    }
   ],
   "source": [
    "res=df.groupby(by='State', as_index=False).count()[['State','Purchase Price']]\n",
    "res = res.sort_values(by='Purchase Price', ascending=False).head()\n",
    "plt.title('Top Most purchases done by Location(State)')\n",
    "ax = sns.barplot(x = \"State\", y = \"Purchase Price\", data = res)\n",
    "ax.set(xlabel=\"Location\", ylabel = \"Total Count of Purchases\")\n",
    "ax.set_xticklabels(ax.get_xticklabels(), rotation=45, horizontalalignment='right')\n",
    "plt.show()\n",
    "\n",
    "\n"
   ]
  },
  {
   "cell_type": "code",
   "execution_count": 35,
   "metadata": {},
   "outputs": [
    {
     "data": {
      "image/png": "[encoded data removed]",
      "text/plain": [
       "<Figure size 432x288 with 1 Axes>"
      ]
     },
     "metadata": {
      "needs_background": "light"
     },
     "output_type": "display_data"
    }
   ],
   "source": [
    "#Purchases done by State (locations) and correspinding time\n",
    "res=df.groupby(by='State', as_index=False)['Purchase Price'].count()\n",
    "res = res.sort_values(by='Purchase Price', ascending=False).iloc[:5,:]\n",
    "res4=df.groupby(by=['State','AM or PM'], as_index=False)['Purchase Price'].count()\n",
    "res4= res4.sort_values(by='Purchase Price', ascending=False)\n",
    "\n",
    "plt.title('Most purchases done by State (locations) and time')\n",
    "ax = sns.barplot(x = \"Purchase Price_y\", y = \"State\",hue=\"AM or PM\" , orient = 'h', \\\n",
    "                 data = res.merge(res4, on = 'State', how = 'inner'))\n",
    "ax.set(ylabel=\"Top ordering states\", xlabel = \"Total Count of Purchases\")\n",
    "ax.set_xticklabels(ax.get_xticklabels(), rotation=45, horizontalalignment='right')\n",
    "plt.show()"
   ]
  },
  {
   "cell_type": "markdown",
   "metadata": {},
   "source": [
    "#### 4. Credit Card providers involved in transactions at different times for purchases"
   ]
  },
  {
   "cell_type": "code",
   "execution_count": 36,
   "metadata": {},
   "outputs": [
    {
     "data": {
      "image/png": "[encoded data removed]",
      "text/plain": [
       "<Figure size 1728x360 with 2 Axes>"
      ]
     },
     "metadata": {
      "needs_background": "light"
     },
     "output_type": "display_data"
    }
   ],
   "source": [
    "fig, axarr = plt.subplots(1, 2, figsize=(24, 5))\n",
    "CC_data_hue_cnt = df.groupby(by=['CC Provider','AM or PM'], as_index=False)['Purchase Price'].count()\n",
    "ax = sns.barplot(y = 'CC Provider', x = 'Purchase Price' ,hue='AM or PM', orient = 'h', data = CC_data_hue_cnt,\\\n",
    "            color = 'darkviolet', ax=axarr[0])\n",
    "ax.set(xlabel=\"Number of Orders\", ylabel='CC Provider')\n",
    "axarr[0].set_title(\"CC Provider usage count at different times\", fontsize=15)\n",
    "\n",
    "CC_data_hue_sum = df.groupby(by=['CC Provider','AM or PM'], as_index=False)['Purchase Price'].sum()\n",
    "ax = sns.barplot(y = 'CC Provider', x = 'Purchase Price' ,hue='AM or PM', orient = 'h', data = CC_data_hue_sum,\\\n",
    "            color = 'saddlebrown', ax=axarr[1])\n",
    "ax.set(xlabel=\"Purchase Value\", ylabel=None)\n",
    "axarr[1].set_title(\"CC Provider usage value at different times\", fontsize=15)\n",
    "plt.show()"
   ]
  },
  {
   "cell_type": "markdown",
   "metadata": {},
   "source": [
    "#### 5. What are top 5 Location(State) for purchases?"
   ]
  },
  {
   "cell_type": "code",
   "execution_count": 37,
   "metadata": {},
   "outputs": [
    {
     "data": {
      "image/png": "[encoded data removed]",
      "text/plain": [
       "<Figure size 1728x360 with 2 Axes>"
      ]
     },
     "metadata": {
      "needs_background": "light"
     },
     "output_type": "display_data"
    }
   ],
   "source": [
    "fig, axarr = plt.subplots(1, 2, figsize=(24, 5))\n",
    "#print('The TOP 5 Locations(state) with number of purchase...')\n",
    "res=df.groupby(by='State', as_index=False).count()[['State','Purchase Price']]\n",
    "res = res.sort_values(by='Purchase Price', ascending=False).head()\n",
    "ax = sns.barplot(x = \"State\", y = \"Purchase Price\", data = res, ax=axarr[0])\n",
    "axarr[0].set_title(\"Top Most Number of Purchases done by Location(State)\", fontsize=15)\n",
    "ax.set(xlabel=None, ylabel = \"Total Number of Purchases\")\n",
    "ax.set_xticklabels(ax.get_xticklabels(), rotation=45, horizontalalignment='right')\n",
    "\n",
    "#print('The TOP 5 Locations(state) with max amount of purchase...')\n",
    "res=df.groupby(by='State', as_index=False).sum()[['State','Purchase Price']]\n",
    "res = res.sort_values(by='Purchase Price', ascending=False).head()\n",
    "ax = sns.barplot(x = \"State\", y = \"Purchase Price\", data = res, ax=axarr[1])\n",
    "axarr[1].set_title(\"Top Most Value of Purchases done by Location(State)\", fontsize=15)\n",
    "ax.set(xlabel=None, ylabel = \"Total Value of Purchases\")\n",
    "ax.set_xticklabels(ax.get_xticklabels(), rotation=45, horizontalalignment='right')\n",
    "\n",
    "plt.show()\n"
   ]
  },
  {
   "cell_type": "markdown",
   "metadata": {},
   "source": [
    "top 5 Job, CC Providers, email and language"
   ]
  },
  {
   "cell_type": "code",
   "execution_count": 38,
   "metadata": {},
   "outputs": [
    {
     "data": {
      "image/png": "[encoded data removed]",
      "text/plain": [
       "<Figure size 1728x3600 with 8 Axes>"
      ]
     },
     "metadata": {
      "needs_background": "light"
     },
     "output_type": "display_data"
    }
   ],
   "source": [
    "fig, axarr = plt.subplots(4, 2, figsize=(24, 50))\n",
    "#print('The TOP 5 Professionals with max Number of Purchase...')\n",
    "job = df.groupby(by=['Job'], as_index=False)['Purchase Price'].count()\n",
    "res1= job.sort_values(by='Purchase Price', ascending=False).head()\n",
    "ax = sns.barplot(x = \"Job\", y = \"Purchase Price\", data = res1, ax=axarr[0][0])\n",
    "axarr[0][0].set_title(\"Top Most Number of Purchases done by Professionals\", fontsize=15)\n",
    "ax.set(xlabel=None, ylabel = \"Total Number of Purchases\")\n",
    "ax.set_xticklabels(ax.get_xticklabels(), rotation=45, horizontalalignment='right')\n",
    "\n",
    "\n",
    "#print('The TOP 5 Professionals with max Value of purchase...')\n",
    "job = df.groupby(by=['Job'], as_index=False)['Purchase Price'].sum()\n",
    "res1= job.sort_values(by='Purchase Price', ascending=False).head()\n",
    "ax = sns.barplot(x = \"Job\", y = \"Purchase Price\", data = res1, ax=axarr[0][1])\n",
    "axarr[0][1].set_title(\"Top Most Value of Purchases done by Professionals\", fontsize=15)\n",
    "ax.set(xlabel=None, ylabel = \"Total Value of Purchases\")\n",
    "ax.set_xticklabels(ax.get_xticklabels(), rotation=45, horizontalalignment='right')\n",
    "\n",
    "\n",
    "#print('The TOP 5 customers with max Number of purchase...')\n",
    "res = df.groupby(by=['Email'], as_index=False)['Purchase Price'].count()\n",
    "res = res.sort_values(by='Purchase Price', ascending=False).head()\n",
    "ax = sns.barplot(x = \"Email\", y = \"Purchase Price\", data = res, ax=axarr[1][0])\n",
    "axarr[1][0].set_title(\"Top Most Number of Purchases done by Customers(Emails)\", fontsize=15)\n",
    "ax.set(xlabel=None, ylabel = \"Total Number of Purchases\")\n",
    "ax.set_xticklabels(ax.get_xticklabels(), rotation=45, horizontalalignment='right')\n",
    "\n",
    "\n",
    "#print('The TOP 5 customers with max Value of purchase...')\n",
    "res = df.groupby(by=['Email'], as_index=False)['Purchase Price'].sum()\n",
    "res = res.sort_values(by='Purchase Price', ascending=False).head()\n",
    "ax = sns.barplot(x = \"Email\", y = \"Purchase Price\", data = res, ax=axarr[1][1])\n",
    "axarr[1][1].set_title(\"Top Most Value of Purchases done by Customers(Emails)\", fontsize=15)\n",
    "ax.set(xlabel=None, ylabel = \"Total Value of Purchases\")\n",
    "ax.set_xticklabels(ax.get_xticklabels(), rotation=45, horizontalalignment='right')\n",
    "\n",
    "\n",
    "#print('The TOP 5 CC Providers with max Number of purchase...')\n",
    "res = df.groupby(by=['CC Provider'], as_index=False)['Purchase Price'].count()\n",
    "res = res.sort_values(by='Purchase Price', ascending=False).head()\n",
    "ax = sns.barplot(x = \"CC Provider\", y = \"Purchase Price\", data = res, ax=axarr[2][0])\n",
    "axarr[2][0].set_title(\"Top Most Number of Purchases done by CC Providers\", fontsize=15)\n",
    "ax.set(xlabel=None, ylabel = \"Total Number of Purchases\")\n",
    "ax.set_xticklabels(ax.get_xticklabels(), rotation=45, horizontalalignment='right')\n",
    "\n",
    "#print('The TOP 5 CC Providers with max Value of purchases...')\n",
    "res = df.groupby(by=['CC Provider'], as_index=False)['Purchase Price'].sum()\n",
    "res = res.sort_values(by='Purchase Price', ascending=False).head()\n",
    "ax = sns.barplot(x = \"CC Provider\", y = \"Purchase Price\", data = res, ax=axarr[2][1])\n",
    "axarr[2][1].set_title(\"Top Most Value of Purchases done by CC Providers\", fontsize=15)\n",
    "ax.set(xlabel=None, ylabel = \"Total Value of Purchases\")\n",
    "ax.set_xticklabels(ax.get_xticklabels(), rotation=45, horizontalalignment='right')\n",
    "\n",
    "#print('The TOP 5 languages with max Number of purchase...')\n",
    "res = df.groupby(by=['Language'], as_index=False)['Purchase Price'].count()\n",
    "res = res.sort_values(by='Purchase Price', ascending=False).head()\n",
    "ax = sns.barplot(x = \"Language\", y = \"Purchase Price\", data = res, ax=axarr[3][0])\n",
    "axarr[3][0].set_title(\"Top Most Number of Purchases done by different languages Customers\", fontsize=15)\n",
    "ax.set(xlabel=None, ylabel = \"Total Number of Purchases\")\n",
    "ax.set_xticklabels(ax.get_xticklabels(), rotation=45, horizontalalignment='right')\n",
    "\n",
    "#print('The TOP 5 languages with max Value of purchase...')\n",
    "res = df.groupby(by=['Language'], as_index=False)['Purchase Price'].sum()\n",
    "res = res.sort_values(by='Purchase Price', ascending=False).head()\n",
    "ax = sns.barplot(x = \"Language\", y = \"Purchase Price\", data = res, ax=axarr[3][1])\n",
    "axarr[3][1].set_title(\"Top Most Value of Purchases done by different languages Customers\", fontsize=15)\n",
    "ax.set(xlabel=None, ylabel = \"Total Value of Purchases\")\n",
    "ax.set_xticklabels(ax.get_xticklabels(), rotation=45, horizontalalignment='right')\n",
    "plt.show()"
   ]
  },
  {
   "cell_type": "code",
   "execution_count": 39,
   "metadata": {},
   "outputs": [
    {
     "data": {
      "text/html": [
       "<div>\n",
       "<style scoped>\n",
       "    .dataframe tbody tr th:only-of-type {\n",
       "        vertical-align: middle;\n",
       "    }\n",
       "\n",
       "    .dataframe tbody tr th {\n",
       "        vertical-align: top;\n",
       "    }\n",
       "\n",
       "    .dataframe thead th {\n",
       "        text-align: right;\n",
       "    }\n",
       "</style>\n",
       "<table border=\"1\" class=\"dataframe\">\n",
       "  <thead>\n",
       "    <tr style=\"text-align: right;\">\n",
       "      <th>State</th>\n",
       "      <th>AA</th>\n",
       "      <th>AE</th>\n",
       "      <th>AK</th>\n",
       "      <th>AL</th>\n",
       "      <th>AP</th>\n",
       "      <th>AR</th>\n",
       "      <th>AS</th>\n",
       "      <th>AZ</th>\n",
       "      <th>CA</th>\n",
       "      <th>CO</th>\n",
       "      <th>...</th>\n",
       "      <th>TN</th>\n",
       "      <th>TX</th>\n",
       "      <th>UT</th>\n",
       "      <th>VA</th>\n",
       "      <th>VI</th>\n",
       "      <th>VT</th>\n",
       "      <th>WA</th>\n",
       "      <th>WI</th>\n",
       "      <th>WV</th>\n",
       "      <th>WY</th>\n",
       "    </tr>\n",
       "    <tr>\n",
       "      <th>AM or PM</th>\n",
       "      <th></th>\n",
       "      <th></th>\n",
       "      <th></th>\n",
       "      <th></th>\n",
       "      <th></th>\n",
       "      <th></th>\n",
       "      <th></th>\n",
       "      <th></th>\n",
       "      <th></th>\n",
       "      <th></th>\n",
       "      <th></th>\n",
       "      <th></th>\n",
       "      <th></th>\n",
       "      <th></th>\n",
       "      <th></th>\n",
       "      <th></th>\n",
       "      <th></th>\n",
       "      <th></th>\n",
       "      <th></th>\n",
       "      <th></th>\n",
       "      <th></th>\n",
       "    </tr>\n",
       "  </thead>\n",
       "  <tbody>\n",
       "    <tr>\n",
       "      <th>AM</th>\n",
       "      <td>165</td>\n",
       "      <td>173</td>\n",
       "      <td>82</td>\n",
       "      <td>83</td>\n",
       "      <td>196</td>\n",
       "      <td>63</td>\n",
       "      <td>61</td>\n",
       "      <td>74</td>\n",
       "      <td>70</td>\n",
       "      <td>65</td>\n",
       "      <td>...</td>\n",
       "      <td>66</td>\n",
       "      <td>71</td>\n",
       "      <td>69</td>\n",
       "      <td>72</td>\n",
       "      <td>83</td>\n",
       "      <td>65</td>\n",
       "      <td>77</td>\n",
       "      <td>87</td>\n",
       "      <td>71</td>\n",
       "      <td>70</td>\n",
       "    </tr>\n",
       "    <tr>\n",
       "      <th>PM</th>\n",
       "      <td>186</td>\n",
       "      <td>158</td>\n",
       "      <td>75</td>\n",
       "      <td>65</td>\n",
       "      <td>180</td>\n",
       "      <td>84</td>\n",
       "      <td>80</td>\n",
       "      <td>71</td>\n",
       "      <td>76</td>\n",
       "      <td>68</td>\n",
       "      <td>...</td>\n",
       "      <td>61</td>\n",
       "      <td>75</td>\n",
       "      <td>82</td>\n",
       "      <td>82</td>\n",
       "      <td>95</td>\n",
       "      <td>66</td>\n",
       "      <td>86</td>\n",
       "      <td>73</td>\n",
       "      <td>86</td>\n",
       "      <td>80</td>\n",
       "    </tr>\n",
       "  </tbody>\n",
       "</table>\n",
       "<p>2 rows × 62 columns</p>\n",
       "</div>"
      ],
      "text/plain": [
       "State      AA   AE  AK  AL   AP  AR  AS  AZ  CA  CO  ...  TN  TX  UT  VA  VI  \\\n",
       "AM or PM                                             ...                       \n",
       "AM        165  173  82  83  196  63  61  74  70  65  ...  66  71  69  72  83   \n",
       "PM        186  158  75  65  180  84  80  71  76  68  ...  61  75  82  82  95   \n",
       "\n",
       "State     VT  WA  WI  WV  WY  \n",
       "AM or PM                      \n",
       "AM        65  77  87  71  70  \n",
       "PM        66  86  73  86  80  \n",
       "\n",
       "[2 rows x 62 columns]"
      ]
     },
     "execution_count": 39,
     "metadata": {},
     "output_type": "execute_result"
    }
   ],
   "source": [
    "res4=df.groupby(by=['State','AM or PM'], as_index=False).count()[['State','Purchase Price','AM or PM']]\n",
    "res4 = res4.pivot_table(values = 'Purchase Price', index = 'AM or PM', columns = 'State', aggfunc = 'sum')\n",
    "res4"
   ]
  },
  {
   "cell_type": "code",
   "execution_count": 40,
   "metadata": {},
   "outputs": [
    {
     "data": {
      "text/html": [
       "<div>\n",
       "<style scoped>\n",
       "    .dataframe tbody tr th:only-of-type {\n",
       "        vertical-align: middle;\n",
       "    }\n",
       "\n",
       "    .dataframe tbody tr th {\n",
       "        vertical-align: top;\n",
       "    }\n",
       "\n",
       "    .dataframe thead th {\n",
       "        text-align: right;\n",
       "    }\n",
       "</style>\n",
       "<table border=\"1\" class=\"dataframe\">\n",
       "  <thead>\n",
       "    <tr style=\"text-align: right;\">\n",
       "      <th>State</th>\n",
       "      <th>AA</th>\n",
       "      <th>AE</th>\n",
       "      <th>AK</th>\n",
       "      <th>AL</th>\n",
       "      <th>AP</th>\n",
       "      <th>AR</th>\n",
       "      <th>AS</th>\n",
       "      <th>AZ</th>\n",
       "      <th>CA</th>\n",
       "      <th>CO</th>\n",
       "      <th>...</th>\n",
       "      <th>TN</th>\n",
       "      <th>TX</th>\n",
       "      <th>UT</th>\n",
       "      <th>VA</th>\n",
       "      <th>VI</th>\n",
       "      <th>VT</th>\n",
       "      <th>WA</th>\n",
       "      <th>WI</th>\n",
       "      <th>WV</th>\n",
       "      <th>WY</th>\n",
       "    </tr>\n",
       "    <tr>\n",
       "      <th>AM or PM</th>\n",
       "      <th></th>\n",
       "      <th></th>\n",
       "      <th></th>\n",
       "      <th></th>\n",
       "      <th></th>\n",
       "      <th></th>\n",
       "      <th></th>\n",
       "      <th></th>\n",
       "      <th></th>\n",
       "      <th></th>\n",
       "      <th></th>\n",
       "      <th></th>\n",
       "      <th></th>\n",
       "      <th></th>\n",
       "      <th></th>\n",
       "      <th></th>\n",
       "      <th></th>\n",
       "      <th></th>\n",
       "      <th></th>\n",
       "      <th></th>\n",
       "      <th></th>\n",
       "    </tr>\n",
       "  </thead>\n",
       "  <tbody>\n",
       "    <tr>\n",
       "      <th>AM</th>\n",
       "      <td>8579.869530</td>\n",
       "      <td>8481.889530</td>\n",
       "      <td>3846.429208</td>\n",
       "      <td>4394.28651</td>\n",
       "      <td>10282.552228</td>\n",
       "      <td>3179.596510</td>\n",
       "      <td>3058.173020</td>\n",
       "      <td>3419.401906</td>\n",
       "      <td>3460.523020</td>\n",
       "      <td>3043.613812</td>\n",
       "      <td>...</td>\n",
       "      <td>3316.125718</td>\n",
       "      <td>3344.878416</td>\n",
       "      <td>3714.411114</td>\n",
       "      <td>3511.991114</td>\n",
       "      <td>3694.893812</td>\n",
       "      <td>3436.393020</td>\n",
       "      <td>4024.323812</td>\n",
       "      <td>4264.603812</td>\n",
       "      <td>3676.738416</td>\n",
       "      <td>3560.451906</td>\n",
       "    </tr>\n",
       "    <tr>\n",
       "      <th>PM</th>\n",
       "      <td>9293.310644</td>\n",
       "      <td>7614.864134</td>\n",
       "      <td>3831.791114</td>\n",
       "      <td>3326.12651</td>\n",
       "      <td>9027.987624</td>\n",
       "      <td>4142.808416</td>\n",
       "      <td>4248.247624</td>\n",
       "      <td>3389.228416</td>\n",
       "      <td>3605.461114</td>\n",
       "      <td>3318.147624</td>\n",
       "      <td>...</td>\n",
       "      <td>3151.834926</td>\n",
       "      <td>3619.456510</td>\n",
       "      <td>4065.218416</td>\n",
       "      <td>4048.049208</td>\n",
       "      <td>4432.203020</td>\n",
       "      <td>3300.103812</td>\n",
       "      <td>3830.425718</td>\n",
       "      <td>4146.063812</td>\n",
       "      <td>4319.790322</td>\n",
       "      <td>4047.713812</td>\n",
       "    </tr>\n",
       "  </tbody>\n",
       "</table>\n",
       "<p>2 rows × 62 columns</p>\n",
       "</div>"
      ],
      "text/plain": [
       "State              AA           AE           AK          AL            AP  \\\n",
       "AM or PM                                                                    \n",
       "AM        8579.869530  8481.889530  3846.429208  4394.28651  10282.552228   \n",
       "PM        9293.310644  7614.864134  3831.791114  3326.12651   9027.987624   \n",
       "\n",
       "State              AR           AS           AZ           CA           CO  \\\n",
       "AM or PM                                                                    \n",
       "AM        3179.596510  3058.173020  3419.401906  3460.523020  3043.613812   \n",
       "PM        4142.808416  4248.247624  3389.228416  3605.461114  3318.147624   \n",
       "\n",
       "State     ...           TN           TX           UT           VA  \\\n",
       "AM or PM  ...                                                       \n",
       "AM        ...  3316.125718  3344.878416  3714.411114  3511.991114   \n",
       "PM        ...  3151.834926  3619.456510  4065.218416  4048.049208   \n",
       "\n",
       "State              VI           VT           WA           WI           WV  \\\n",
       "AM or PM                                                                    \n",
       "AM        3694.893812  3436.393020  4024.323812  4264.603812  3676.738416   \n",
       "PM        4432.203020  3300.103812  3830.425718  4146.063812  4319.790322   \n",
       "\n",
       "State              WY  \n",
       "AM or PM               \n",
       "AM        3560.451906  \n",
       "PM        4047.713812  \n",
       "\n",
       "[2 rows x 62 columns]"
      ]
     },
     "execution_count": 40,
     "metadata": {},
     "output_type": "execute_result"
    }
   ],
   "source": [
    "res4=df.groupby(by=['State','AM or PM'], as_index=False).sum()[['State','Purchase Price','AM or PM']]\n",
    "res4 = res4.pivot_table(values = 'Purchase Price', index = 'AM or PM', columns = 'State', aggfunc = 'sum')\n",
    "res4"
   ]
  },
  {
   "cell_type": "code",
   "execution_count": 41,
   "metadata": {},
   "outputs": [
    {
     "data": {
      "image/png": "[encoded data removed]",
      "text/plain": [
       "<Figure size 432x288 with 1 Axes>"
      ]
     },
     "metadata": {
      "needs_background": "light"
     },
     "output_type": "display_data"
    },
    {
     "data": {
      "image/png": "[encoded data removed]",
      "text/plain": [
       "<Figure size 432x288 with 1 Axes>"
      ]
     },
     "metadata": {
      "needs_background": "light"
     },
     "output_type": "display_data"
    }
   ],
   "source": [
    "\n",
    "sns.countplot(df['AM or PM'],label='Count')\n",
    "plt.show()\n",
    "ax = sns.barplot(y = df.groupby('AM or PM')['Purchase Price'].sum(), x = df.groupby('AM or PM')['Purchase Price'].sum().index)\n",
    "ax.set(xlabel=\"AM or PM\", ylabel = \"Purchase Price\")\n",
    "ax.set_xticklabels(ax.get_xticklabels(), rotation=45, horizontalalignment='right')\n",
    "plt.show()"
   ]
  },
  {
   "cell_type": "markdown",
   "metadata": {},
   "source": [
    "Top 5 most purchase done by professionals"
   ]
  },
  {
   "cell_type": "code",
   "execution_count": 42,
   "metadata": {},
   "outputs": [
    {
     "name": "stdout",
     "output_type": "stream",
     "text": [
      "The TOP 5 customers with max amount of purchase...\n"
     ]
    },
    {
     "data": {
      "text/html": [
       "<div>\n",
       "<style scoped>\n",
       "    .dataframe tbody tr th:only-of-type {\n",
       "        vertical-align: middle;\n",
       "    }\n",
       "\n",
       "    .dataframe tbody tr th {\n",
       "        vertical-align: top;\n",
       "    }\n",
       "\n",
       "    .dataframe thead th {\n",
       "        text-align: right;\n",
       "    }\n",
       "</style>\n",
       "<table border=\"1\" class=\"dataframe\">\n",
       "  <thead>\n",
       "    <tr style=\"text-align: right;\">\n",
       "      <th></th>\n",
       "      <th>Email</th>\n",
       "      <th>Purchase Price</th>\n",
       "    </tr>\n",
       "  </thead>\n",
       "  <tbody>\n",
       "    <tr>\n",
       "      <th>1084</th>\n",
       "      <td>brownsarah@gmail.com</td>\n",
       "      <td>198.83</td>\n",
       "    </tr>\n",
       "    <tr>\n",
       "      <th>9549</th>\n",
       "      <td>wjohnson@yahoo.com</td>\n",
       "      <td>175.61</td>\n",
       "    </tr>\n",
       "    <tr>\n",
       "      <th>5255</th>\n",
       "      <td>lawrenceemily@yahoo.com</td>\n",
       "      <td>154.31</td>\n",
       "    </tr>\n",
       "    <tr>\n",
       "      <th>9918</th>\n",
       "      <td>znguyen@gmail.com</td>\n",
       "      <td>144.73</td>\n",
       "    </tr>\n",
       "    <tr>\n",
       "      <th>2450</th>\n",
       "      <td>edwardsjohn@gmail.com</td>\n",
       "      <td>142.60</td>\n",
       "    </tr>\n",
       "  </tbody>\n",
       "</table>\n",
       "</div>"
      ],
      "text/plain": [
       "                        Email  Purchase Price\n",
       "1084     brownsarah@gmail.com          198.83\n",
       "9549       wjohnson@yahoo.com          175.61\n",
       "5255  lawrenceemily@yahoo.com          154.31\n",
       "9918        znguyen@gmail.com          144.73\n",
       "2450    edwardsjohn@gmail.com          142.60"
      ]
     },
     "execution_count": 42,
     "metadata": {},
     "output_type": "execute_result"
    }
   ],
   "source": [
    "print('The TOP 5 customers with max amount of purchase...')\n",
    "res = df.groupby(by=['Email'], as_index=False)['Purchase Price'].sum()\n",
    "res = res.sort_values(by='Purchase Price', ascending=False).head()\n",
    "res"
   ]
  },
  {
   "cell_type": "code",
   "execution_count": 43,
   "metadata": {},
   "outputs": [
    {
     "data": {
      "text/plain": [
       "[Text(0, 0, 'brownsarah@gmail.com'),\n",
       " Text(0, 0, 'wjohnson@yahoo.com'),\n",
       " Text(0, 0, 'lawrenceemily@yahoo.com'),\n",
       " Text(0, 0, 'znguyen@gmail.com'),\n",
       " Text(0, 0, 'edwardsjohn@gmail.com')]"
      ]
     },
     "execution_count": 43,
     "metadata": {},
     "output_type": "execute_result"
    },
    {
     "data": {
      "image/png": "[encoded data removed]",
      "text/plain": [
       "<Figure size 432x288 with 1 Axes>"
      ]
     },
     "metadata": {
      "needs_background": "light"
     },
     "output_type": "display_data"
    }
   ],
   "source": [
    "ax = sns.barplot(x = \"Email\", y = \"Purchase Price\", data = res)\n",
    "ax.set(xlabel=\"Customer\", ylabel = \"Total Purchase\")\n",
    "ax.set_xticklabels(ax.get_xticklabels(), rotation=45, horizontalalignment='right')"
   ]
  },
  {
   "cell_type": "code",
   "execution_count": 44,
   "metadata": {},
   "outputs": [
    {
     "name": "stdout",
     "output_type": "stream",
     "text": [
      "The TOP 5 customers with max amount of purchase and their companies\n"
     ]
    },
    {
     "data": {
      "text/html": [
       "<div>\n",
       "<style scoped>\n",
       "    .dataframe tbody tr th:only-of-type {\n",
       "        vertical-align: middle;\n",
       "    }\n",
       "\n",
       "    .dataframe tbody tr th {\n",
       "        vertical-align: top;\n",
       "    }\n",
       "\n",
       "    .dataframe thead th {\n",
       "        text-align: right;\n",
       "    }\n",
       "</style>\n",
       "<table border=\"1\" class=\"dataframe\">\n",
       "  <thead>\n",
       "    <tr style=\"text-align: right;\">\n",
       "      <th></th>\n",
       "      <th>Email</th>\n",
       "      <th>Company</th>\n",
       "    </tr>\n",
       "  </thead>\n",
       "  <tbody>\n",
       "    <tr>\n",
       "      <th>0</th>\n",
       "      <td>wjohnson@yahoo.com</td>\n",
       "      <td>Morrison LLC</td>\n",
       "    </tr>\n",
       "    <tr>\n",
       "      <th>1</th>\n",
       "      <td>wjohnson@yahoo.com</td>\n",
       "      <td>Weiss-Smith</td>\n",
       "    </tr>\n",
       "    <tr>\n",
       "      <th>2</th>\n",
       "      <td>znguyen@gmail.com</td>\n",
       "      <td>Golden-Mitchell</td>\n",
       "    </tr>\n",
       "    <tr>\n",
       "      <th>3</th>\n",
       "      <td>znguyen@gmail.com</td>\n",
       "      <td>Rodgers-Kelley</td>\n",
       "    </tr>\n",
       "    <tr>\n",
       "      <th>4</th>\n",
       "      <td>edwardsjohn@gmail.com</td>\n",
       "      <td>Espinoza-Sullivan</td>\n",
       "    </tr>\n",
       "    <tr>\n",
       "      <th>5</th>\n",
       "      <td>edwardsjohn@gmail.com</td>\n",
       "      <td>May, Hughes and Wood</td>\n",
       "    </tr>\n",
       "    <tr>\n",
       "      <th>6</th>\n",
       "      <td>brownsarah@gmail.com</td>\n",
       "      <td>Nichols, Parrish and Jackson</td>\n",
       "    </tr>\n",
       "    <tr>\n",
       "      <th>7</th>\n",
       "      <td>brownsarah@gmail.com</td>\n",
       "      <td>Davis, Smith and Horn</td>\n",
       "    </tr>\n",
       "    <tr>\n",
       "      <th>8</th>\n",
       "      <td>lawrenceemily@yahoo.com</td>\n",
       "      <td>Evans, Sims and Barnes</td>\n",
       "    </tr>\n",
       "    <tr>\n",
       "      <th>9</th>\n",
       "      <td>lawrenceemily@yahoo.com</td>\n",
       "      <td>Johnson Group</td>\n",
       "    </tr>\n",
       "  </tbody>\n",
       "</table>\n",
       "</div>"
      ],
      "text/plain": [
       "                     Email                       Company\n",
       "0       wjohnson@yahoo.com                  Morrison LLC\n",
       "1       wjohnson@yahoo.com                   Weiss-Smith\n",
       "2        znguyen@gmail.com               Golden-Mitchell\n",
       "3        znguyen@gmail.com                Rodgers-Kelley\n",
       "4    edwardsjohn@gmail.com             Espinoza-Sullivan\n",
       "5    edwardsjohn@gmail.com          May, Hughes and Wood\n",
       "6     brownsarah@gmail.com  Nichols, Parrish and Jackson\n",
       "7     brownsarah@gmail.com         Davis, Smith and Horn\n",
       "8  lawrenceemily@yahoo.com        Evans, Sims and Barnes\n",
       "9  lawrenceemily@yahoo.com                 Johnson Group"
      ]
     },
     "execution_count": 44,
     "metadata": {},
     "output_type": "execute_result"
    }
   ],
   "source": [
    "print('The TOP 5 customers with max amount of purchase and their companies')\n",
    "res = df.groupby(by=['Email'], as_index=False)['Purchase Price'].sum()\n",
    "res = res.sort_values(by='Purchase Price', ascending=False).head()\n",
    "pd.merge(df, res, how='inner', on = 'Email')[['Email', 'Company']]\n",
    "\n"
   ]
  },
  {
   "cell_type": "markdown",
   "metadata": {},
   "source": [
    "Discover patterns for Purchase Price¶"
   ]
  },
  {
   "cell_type": "code",
   "execution_count": 45,
   "metadata": {},
   "outputs": [
    {
     "data": {
      "text/plain": [
       "count    10000.000000\n",
       "mean        50.241908\n",
       "std         27.600676\n",
       "min          0.000000\n",
       "25%         27.680000\n",
       "50%         50.347302\n",
       "75%         72.790000\n",
       "max         99.990000\n",
       "Name: Purchase Price, dtype: float64"
      ]
     },
     "execution_count": 45,
     "metadata": {},
     "output_type": "execute_result"
    }
   ],
   "source": [
    "df['Purchase Price'].describe()"
   ]
  },
  {
   "cell_type": "code",
   "execution_count": 46,
   "metadata": {},
   "outputs": [
    {
     "data": {
      "image/png": "[encoded data removed]",
      "text/plain": [
       "<Figure size 864x432 with 1 Axes>"
      ]
     },
     "metadata": {
      "needs_background": "light"
     },
     "output_type": "display_data"
    },
    {
     "data": {
      "image/png": "[encoded data removed]",
      "text/plain": [
       "<Figure size 864x432 with 1 Axes>"
      ]
     },
     "metadata": {
      "needs_background": "light"
     },
     "output_type": "display_data"
    }
   ],
   "source": [
    "# check the distribution of Purchase price\n",
    "plt.subplots(figsize=(12,6))\n",
    "sns.boxplot(df['Purchase Price'])\n",
    "plt.show()\n",
    "plt.subplots(figsize=(12,6))\n",
    "sns.distplot(df['Purchase Price'])\n",
    "plt.show()"
   ]
  },
  {
   "cell_type": "code",
   "execution_count": 47,
   "metadata": {},
   "outputs": [
    {
     "data": {
      "image/png": "[encoded data removed]",
      "text/plain": [
       "<Figure size 1080x576 with 1 Axes>"
      ]
     },
     "metadata": {
      "needs_background": "light"
     },
     "output_type": "display_data"
    },
    {
     "data": {
      "image/png": "[encoded data removed]",
      "text/plain": [
       "<Figure size 1080x576 with 1 Axes>"
      ]
     },
     "metadata": {
      "needs_background": "light"
     },
     "output_type": "display_data"
    }
   ],
   "source": [
    "group_language_orders = df.groupby('Language')['Purchase Price'].count().sort_values()\n",
    "\n",
    "# plot number of unique customers in each Language\n",
    "plt.subplots(figsize=(15,8))\n",
    "group_language_orders.plot(kind='barh', fontsize=12, color='green')\n",
    "plt.xlabel('Number of Orders', fontsize=12)\n",
    "plt.ylabel('Language', fontsize=12)\n",
    "plt.title('Number of Orders from different Languages', fontsize=12)\n",
    "plt.show()\n",
    "\n",
    "plt.subplots(figsize=(15,8))\n",
    "group_language_order_hue = df.groupby(['Language', 'AM or PM'])['Purchase Price'].count().sort_values(ascending = False).reset_index()\n",
    "sns.barplot(y = 'Language', x = 'Purchase Price' ,hue='AM or PM', orient = 'h', data = group_language_order_hue,\\\n",
    "            color = 'green' )\n",
    "plt.xlabel('Number of Orders', fontsize=12)\n",
    "plt.ylabel('Language', fontsize=12)\n",
    "plt.title('Number of Orders from different Languages', fontsize=12)\n",
    "plt.show()"
   ]
  },
  {
   "cell_type": "markdown",
   "metadata": {},
   "source": [
    "Browser Usage Analysis for purchase¶"
   ]
  },
  {
   "cell_type": "code",
   "execution_count": 48,
   "metadata": {},
   "outputs": [
    {
     "data": {
      "text/html": [
       "<div>\n",
       "<style scoped>\n",
       "    .dataframe tbody tr th:only-of-type {\n",
       "        vertical-align: middle;\n",
       "    }\n",
       "\n",
       "    .dataframe tbody tr th {\n",
       "        vertical-align: top;\n",
       "    }\n",
       "\n",
       "    .dataframe thead th {\n",
       "        text-align: right;\n",
       "    }\n",
       "</style>\n",
       "<table border=\"1\" class=\"dataframe\">\n",
       "  <thead>\n",
       "    <tr style=\"text-align: right;\">\n",
       "      <th></th>\n",
       "      <th>Browser</th>\n",
       "      <th>Purchase Price</th>\n",
       "    </tr>\n",
       "  </thead>\n",
       "  <tbody>\n",
       "    <tr>\n",
       "      <th>0</th>\n",
       "      <td>Mozilla</td>\n",
       "      <td>7924</td>\n",
       "    </tr>\n",
       "    <tr>\n",
       "      <th>1</th>\n",
       "      <td>Opera</td>\n",
       "      <td>2076</td>\n",
       "    </tr>\n",
       "  </tbody>\n",
       "</table>\n",
       "</div>"
      ],
      "text/plain": [
       "   Browser  Purchase Price\n",
       "0  Mozilla            7924\n",
       "1    Opera            2076"
      ]
     },
     "execution_count": 48,
     "metadata": {},
     "output_type": "execute_result"
    }
   ],
   "source": [
    "browser_data = df.groupby(by='Browser', as_index=False)['Purchase Price'].count()\n",
    "browser_data"
   ]
  },
  {
   "cell_type": "code",
   "execution_count": 49,
   "metadata": {},
   "outputs": [],
   "source": [
    "from matplotlib.pyplot import pie, axis, show\n",
    "browser_data['Browser']=browser_data['Browser'].map({'Mozilla':0,'Opera':1})"
   ]
  },
  {
   "cell_type": "code",
   "execution_count": 50,
   "metadata": {},
   "outputs": [
    {
     "data": {
      "image/png": "[encoded data removed]",
      "text/plain": [
       "<Figure size 648x288 with 1 Axes>"
      ]
     },
     "metadata": {},
     "output_type": "display_data"
    }
   ],
   "source": [
    "labels = ['Mozilla','Opera']\n",
    "colors = ['orange', 'green'] \n",
    "explode =(0,0.1) \n",
    "fig, ax1 = plt.subplots(figsize = (9,4)) \n",
    "ax1.pie(browser_data['Purchase Price'], explode = explode, colors=colors, startangle=90, autopct='%.1f%%', shadow = True) \n",
    "plt.title('Browser Usage Pattern for Purchase', fontsize = 15) \n",
    "ax1.legend(labels, loc = 'upper right') \n",
    "plt.tight_layout() \n",
    "plt.show()\n"
   ]
  },
  {
   "cell_type": "code",
   "execution_count": 51,
   "metadata": {},
   "outputs": [
    {
     "data": {
      "image/png": "[encoded data removed]",
      "text/plain": [
       "<Figure size 432x288 with 1 Axes>"
      ]
     },
     "metadata": {
      "needs_background": "light"
     },
     "output_type": "display_data"
    }
   ],
   "source": [
    "browser_data_hue = df.groupby(by=['Browser','AM or PM'], as_index=False)['Purchase Price'].count()\n",
    "sns.barplot(y = 'Browser', x = 'Purchase Price' ,hue='AM or PM', orient = 'h', data = browser_data_hue,\\\n",
    "            color = 'chocolate' )\n",
    "plt.xlabel('Number of Orders', fontsize=12)\n",
    "plt.ylabel('Browser', fontsize=12)\n",
    "plt.title('Traffic of browsers at different times', fontsize=12)\n",
    "plt.show()"
   ]
  },
  {
   "cell_type": "code",
   "execution_count": 52,
   "metadata": {},
   "outputs": [
    {
     "name": "stdout",
     "output_type": "stream",
     "text": [
      "The TOP 5 Companies with max amount of purchase...\n"
     ]
    },
    {
     "data": {
      "text/html": [
       "<div>\n",
       "<style scoped>\n",
       "    .dataframe tbody tr th:only-of-type {\n",
       "        vertical-align: middle;\n",
       "    }\n",
       "\n",
       "    .dataframe tbody tr th {\n",
       "        vertical-align: top;\n",
       "    }\n",
       "\n",
       "    .dataframe thead th {\n",
       "        text-align: right;\n",
       "    }\n",
       "</style>\n",
       "<table border=\"1\" class=\"dataframe\">\n",
       "  <thead>\n",
       "    <tr style=\"text-align: right;\">\n",
       "      <th></th>\n",
       "      <th>Company</th>\n",
       "      <th>Purchase Price</th>\n",
       "    </tr>\n",
       "  </thead>\n",
       "  <tbody>\n",
       "    <tr>\n",
       "      <th>805</th>\n",
       "      <td>Brown Ltd</td>\n",
       "      <td>775.854604</td>\n",
       "    </tr>\n",
       "    <tr>\n",
       "      <th>8303</th>\n",
       "      <td>Williams LLC</td>\n",
       "      <td>734.249208</td>\n",
       "    </tr>\n",
       "    <tr>\n",
       "      <th>7166</th>\n",
       "      <td>Smith LLC</td>\n",
       "      <td>675.329208</td>\n",
       "    </tr>\n",
       "    <tr>\n",
       "      <th>7168</th>\n",
       "      <td>Smith PLC</td>\n",
       "      <td>595.937302</td>\n",
       "    </tr>\n",
       "    <tr>\n",
       "      <th>1724</th>\n",
       "      <td>Davis and Sons</td>\n",
       "      <td>588.419208</td>\n",
       "    </tr>\n",
       "  </tbody>\n",
       "</table>\n",
       "</div>"
      ],
      "text/plain": [
       "             Company  Purchase Price\n",
       "805        Brown Ltd      775.854604\n",
       "8303    Williams LLC      734.249208\n",
       "7166       Smith LLC      675.329208\n",
       "7168       Smith PLC      595.937302\n",
       "1724  Davis and Sons      588.419208"
      ]
     },
     "execution_count": 52,
     "metadata": {},
     "output_type": "execute_result"
    }
   ],
   "source": [
    "print('The TOP 5 Companies with max amount of purchase...')\n",
    "res = df.groupby(by=['Company'], as_index=False)['Purchase Price'].sum()\n",
    "res = res.sort_values(by='Purchase Price', ascending=False).head()\n",
    "res"
   ]
  },
  {
   "cell_type": "code",
   "execution_count": 53,
   "metadata": {},
   "outputs": [
    {
     "data": {
      "image/png": "[encoded data removed]",
      "text/plain": [
       "<Figure size 432x288 with 1 Axes>"
      ]
     },
     "metadata": {},
     "output_type": "display_data"
    }
   ],
   "source": [
    "sns.set(style=\"whitegrid\")\n",
    "ax = sns.barplot(x=\"Company\", y=\"Purchase Price\", data=res)"
   ]
  },
  {
   "cell_type": "code",
   "execution_count": 54,
   "metadata": {},
   "outputs": [],
   "source": [
    "#res.iplot(kind='bar', x=\"Company\", y=\"Purchase Price\", color='green')\n"
   ]
  },
  {
   "cell_type": "code",
   "execution_count": 55,
   "metadata": {},
   "outputs": [
    {
     "data": {
      "text/plain": [
       "Index(['Interior and spatial designer', 'Lawyer', 'Social researcher',\n",
       "       'Research officer, political party', 'Purchasing manager',\n",
       "       'Designer, jewellery', 'Social worker', 'Dietitian',\n",
       "       'Charity fundraiser', 'Special educational needs teacher',\n",
       "       ...\n",
       "       'Art gallery manager', 'Technical brewer', 'Prison officer',\n",
       "       'Special effects artist', 'Stage manager', 'Music therapist', 'Actuary',\n",
       "       'Editor, film/video', 'Investment analyst',\n",
       "       'Information systems manager'],\n",
       "      dtype='object', length=623)"
      ]
     },
     "execution_count": 55,
     "metadata": {},
     "output_type": "execute_result"
    }
   ],
   "source": [
    "#All jobs registered\n",
    "df['Job'].value_counts().index"
   ]
  },
  {
   "cell_type": "code",
   "execution_count": 56,
   "metadata": {},
   "outputs": [
    {
     "data": {
      "image/png": "[encoded data removed]",
      "text/plain": [
       "<Figure size 432x288 with 1 Axes>"
      ]
     },
     "metadata": {},
     "output_type": "display_data"
    }
   ],
   "source": [
    "plt.pie(df['Job'].value_counts().head(), labels = df['Job'].value_counts().head().index )\n",
    "plt.title('Distribution of top 5 jobs')\n",
    "plt.show()"
   ]
  },
  {
   "cell_type": "code",
   "execution_count": 57,
   "metadata": {},
   "outputs": [
    {
     "data": {
      "text/plain": [
       "Index(['Interior and spatial designer', 'Lawyer', 'Social researcher',\n",
       "       'Research officer, political party', 'Purchasing manager'],\n",
       "      dtype='object')"
      ]
     },
     "execution_count": 57,
     "metadata": {},
     "output_type": "execute_result"
    }
   ],
   "source": [
    "df['Job'].value_counts().head().index"
   ]
  },
  {
   "cell_type": "code",
   "execution_count": 58,
   "metadata": {},
   "outputs": [
    {
     "data": {
      "text/plain": [
       "array(['JCB ', 'Mastercard', 'Discover', 'Diners Club / Carte Blanche',\n",
       "       'VISA ', 'American Express', 'Voyager', 'Maestro'], dtype=object)"
      ]
     },
     "execution_count": 58,
     "metadata": {},
     "output_type": "execute_result"
    }
   ],
   "source": [
    "df['CC Provider'].str.split(pat = '\\d', expand = True)[0].unique()#Find the 10 credit card providers"
   ]
  },
  {
   "cell_type": "code",
   "execution_count": 59,
   "metadata": {},
   "outputs": [
    {
     "data": {
      "image/png": "[encoded data removed]",
      "text/plain": [
       "<Figure size 432x288 with 1 Axes>"
      ]
     },
     "metadata": {},
     "output_type": "display_data"
    },
    {
     "data": {
      "image/png": "[encoded data removed]",
      "text/plain": [
       "<Figure size 432x288 with 1 Axes>"
      ]
     },
     "metadata": {},
     "output_type": "display_data"
    },
    {
     "data": {
      "image/png": "[encoded data removed]",
      "text/plain": [
       "<Figure size 432x288 with 1 Axes>"
      ]
     },
     "metadata": {},
     "output_type": "display_data"
    }
   ],
   "source": [
    "df['CC Provider'] = df['CC Provider'].str.split(pat = '\\d', expand = True)[0]\n",
    "\n",
    "cctotal = df.groupby('CC Provider')['Purchase Price'].sum()\n",
    "ccmean = df.groupby('CC Provider')['Purchase Price'].mean()\n",
    "ccorder = df['CC Provider'].value_counts()\n",
    "ccindex = df.groupby('CC Provider')['Purchase Price'].mean().index\n",
    "ccorder = df['CC Provider'].value_counts()\n",
    "\n",
    "plt.pie(cctotal, labels = ccindex )\n",
    "plt.title('Total expediture by credit card type')\n",
    "plt.show()\n",
    "\n",
    "plt.pie(ccmean, labels = ccindex )\n",
    "plt.title('Mean expediture by credit card typpe')\n",
    "plt.show()\n",
    "\n",
    "plt.pie(ccorder, labels = ccindex )\n",
    "plt.title('Number of orders by credit card type')\n",
    "plt.show()\n"
   ]
  },
  {
   "cell_type": "code",
   "execution_count": 60,
   "metadata": {},
   "outputs": [
    {
     "name": "stdout",
     "output_type": "stream",
     "text": [
      "No of Users with expired cards  2022\n"
     ]
    }
   ],
   "source": [
    "#Users with expired credit cards\n",
    "exp = cleaned_ecom[(cleaned_ecom['CC Exp Year'] < 20) & (cleaned_ecom['CC Exp Month'] < 9)]\n",
    "print(\"No of Users with expired cards \", exp['Email'].nunique())"
   ]
  },
  {
   "cell_type": "code",
   "execution_count": 62,
   "metadata": {},
   "outputs": [
    {
     "data": {
      "text/html": [
       "<div>\n",
       "<style scoped>\n",
       "    .dataframe tbody tr th:only-of-type {\n",
       "        vertical-align: middle;\n",
       "    }\n",
       "\n",
       "    .dataframe tbody tr th {\n",
       "        vertical-align: top;\n",
       "    }\n",
       "\n",
       "    .dataframe thead th {\n",
       "        text-align: right;\n",
       "    }\n",
       "</style>\n",
       "<table border=\"1\" class=\"dataframe\">\n",
       "  <thead>\n",
       "    <tr style=\"text-align: right;\">\n",
       "      <th></th>\n",
       "      <th>Job</th>\n",
       "      <th>Purchase Price</th>\n",
       "      <th>Count</th>\n",
       "    </tr>\n",
       "  </thead>\n",
       "  <tbody>\n",
       "    <tr>\n",
       "      <th>158</th>\n",
       "      <td>Dietitian</td>\n",
       "      <td>1611.371906</td>\n",
       "      <td>26</td>\n",
       "    </tr>\n",
       "    <tr>\n",
       "      <th>325</th>\n",
       "      <td>Lawyer</td>\n",
       "      <td>1576.551906</td>\n",
       "      <td>30</td>\n",
       "    </tr>\n",
       "    <tr>\n",
       "      <th>473</th>\n",
       "      <td>Purchasing manager</td>\n",
       "      <td>1540.507302</td>\n",
       "      <td>27</td>\n",
       "    </tr>\n",
       "    <tr>\n",
       "      <th>312</th>\n",
       "      <td>Interior and spatial designer</td>\n",
       "      <td>1512.861906</td>\n",
       "      <td>31</td>\n",
       "    </tr>\n",
       "    <tr>\n",
       "      <th>489</th>\n",
       "      <td>Research officer, political party</td>\n",
       "      <td>1498.654604</td>\n",
       "      <td>27</td>\n",
       "    </tr>\n",
       "    <tr>\n",
       "      <th>...</th>\n",
       "      <td>...</td>\n",
       "      <td>...</td>\n",
       "      <td>...</td>\n",
       "    </tr>\n",
       "    <tr>\n",
       "      <th>526</th>\n",
       "      <td>Senior tax professional/tax inspector</td>\n",
       "      <td>329.117302</td>\n",
       "      <td>9</td>\n",
       "    </tr>\n",
       "    <tr>\n",
       "      <th>352</th>\n",
       "      <td>Marketing executive</td>\n",
       "      <td>315.404604</td>\n",
       "      <td>9</td>\n",
       "    </tr>\n",
       "    <tr>\n",
       "      <th>8</th>\n",
       "      <td>Actuary</td>\n",
       "      <td>262.720000</td>\n",
       "      <td>6</td>\n",
       "    </tr>\n",
       "    <tr>\n",
       "      <th>305</th>\n",
       "      <td>Information systems manager</td>\n",
       "      <td>241.420000</td>\n",
       "      <td>5</td>\n",
       "    </tr>\n",
       "    <tr>\n",
       "      <th>48</th>\n",
       "      <td>Art gallery manager</td>\n",
       "      <td>219.050000</td>\n",
       "      <td>8</td>\n",
       "    </tr>\n",
       "  </tbody>\n",
       "</table>\n",
       "<p>623 rows × 3 columns</p>\n",
       "</div>"
      ],
      "text/plain": [
       "                                       Job  Purchase Price  Count\n",
       "158                              Dietitian     1611.371906     26\n",
       "325                                 Lawyer     1576.551906     30\n",
       "473                     Purchasing manager     1540.507302     27\n",
       "312          Interior and spatial designer     1512.861906     31\n",
       "489      Research officer, political party     1498.654604     27\n",
       "..                                     ...             ...    ...\n",
       "526  Senior tax professional/tax inspector      329.117302      9\n",
       "352                    Marketing executive      315.404604      9\n",
       "8                                  Actuary      262.720000      6\n",
       "305            Information systems manager      241.420000      5\n",
       "48                     Art gallery manager      219.050000      8\n",
       "\n",
       "[623 rows x 3 columns]"
      ]
     },
     "execution_count": 62,
     "metadata": {},
     "output_type": "execute_result"
    }
   ],
   "source": [
    "jobCount = df['Job'].value_counts().rename_axis('Job').reset_index(name='Count')\n",
    "jobPurchase= df.groupby('Job')['Purchase Price'].sum().rename_axis('Job').reset_index()\n",
    "#Map the number of people of a particular Job to the amount the Job type is spending\n",
    "jobPurchase.merge(jobCount, on='Job', how = 'inner' ).sort_values(by ='Purchase Price', ascending = False)\n",
    "#We can see that the dietian is the most populous job designation, hence it is the group that spends the most "
   ]
  },
  {
   "cell_type": "code",
   "execution_count": null,
   "metadata": {},
   "outputs": [],
   "source": []
  },
  {
   "cell_type": "code",
   "execution_count": null,
   "metadata": {},
   "outputs": [],
   "source": []
  },
  {
   "cell_type": "code",
   "execution_count": null,
   "metadata": {},
   "outputs": [],
   "source": []
  }
 ],
 "metadata": {
  "kernelspec": {
   "display_name": "Python 3",
   "language": "python",
   "name": "python3"
  },
  "language_info": {
   "codemirror_mode": {
    "name": "ipython",
    "version": 3
   },
   "file_extension": ".py",
   "mimetype": "text/x-python",
   "name": "python",
   "nbconvert_exporter": "python",
   "pygments_lexer": "ipython3",
   "version": "3.8.3"
  }
 },
 "nbformat": 4,
 "nbformat_minor": 2
}
